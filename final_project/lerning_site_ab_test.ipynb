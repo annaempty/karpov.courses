{
 "cells": [
  {
   "cell_type": "code",
   "execution_count": 1,
   "id": "9f61e1ed",
   "metadata": {},
   "outputs": [],
   "source": [
    "import pandas as pd\n",
    "import numpy as np\n",
    "\n",
    "import seaborn as sns\n",
    "import matplotlib.pyplot as plt\n",
    "\n",
    "import requests \n",
    "from urllib.parse import urlencode \n",
    "import pandahouse as ph\n",
    "\n",
    "import pingouin as pg\n",
    "import scipy.stats as ss\n",
    "\n",
    "%matplotlib inline"
   ]
  },
  {
   "cell_type": "markdown",
   "id": "c8783c3d",
   "metadata": {},
   "source": [
    "## Задание 1. A/B–тестирование\n",
    "\n",
    "В ходе тестирования одной гипотезы целевой группе была предложена новая механика оплаты услуг на сайте, у контрольной группы оставалась базовая механика. Необходимо проанализировать итоги эксперимента и сделать вывод, стоит ли запускать новую механику оплаты на всех пользователей.\n",
    "\n",
    "**Входные данные**\n",
    "\n",
    "В качестве входных данных вы имеете 4 csv-файла:\n",
    "\n",
    "- groups.csv – файл с информацией о принадлежности пользователя к контрольной или экспериментальной группе (А – контроль, B – целевая группа) \n",
    "- groups_add.csv – дополнительный файл с пользователями, который вам прислали спустя 2 дня после передачи данных\n",
    "- active_studs.csv – файл с информацией о пользователях, которые зашли на платформу в дни проведения эксперимента. \n",
    "- checks.csv – файл с информацией об оплатах пользователей в дни проведения эксперимента.  "
   ]
  },
  {
   "cell_type": "code",
   "execution_count": 2,
   "id": "f8c3d1a7",
   "metadata": {},
   "outputs": [],
   "source": [
    "# Считать файл через api\n",
    "def read_yandex_disk(public_key, sep=','):\n",
    "    \"\"\"\n",
    "    Функция считывает данные через api\n",
    "    Входные данные:\n",
    "    public_key - Ссылка на файл\n",
    "    sep - Символ, который используется в качестве разделителя\n",
    "    \"\"\"\n",
    "    # используем api \n",
    "    base_url = 'https://cloud-api.yandex.net/v1/disk/public/resources/download?' \n",
    "\n",
    "    # получаем url \n",
    "    final_url = base_url + urlencode(dict(public_key=public_key)) \n",
    "    response = requests.get(final_url) \n",
    "    download_url = response.json()['href'] \n",
    "\n",
    "    # загружаем файл в df \n",
    "    download_response = requests.get(download_url) \n",
    "    df = pd.read_csv(download_url, sep=sep) \n",
    "    return df"
   ]
  },
  {
   "cell_type": "code",
   "execution_count": 3,
   "id": "8e432e1d",
   "metadata": {},
   "outputs": [
    {
     "name": "stderr",
     "output_type": "stream",
     "text": [
      "/opt/tljh/user/lib/python3.7/site-packages/outdated/utils.py:18: OutdatedCacheFailedWarning: Failed to use cache while checking for outdated package.\n",
      "Set the environment variable OUTDATED_RAISE_EXCEPTION=1 for a full traceback.\n",
      "Set the environment variable OUTDATED_IGNORE=1 to disable these warnings.\n",
      "  **kwargs\n",
      "/opt/tljh/user/lib/python3.7/site-packages/outdated/utils.py:18: OutdatedPackageWarning: The package outdated is out of date. Your version is 0.2.1, the latest is 0.2.2.\n",
      "Set the environment variable OUTDATED_IGNORE=1 to disable these warnings.\n",
      "  **kwargs\n",
      "/opt/tljh/user/lib/python3.7/site-packages/outdated/utils.py:18: OutdatedPackageWarning: The package pingouin is out of date. Your version is 0.4.0, the latest is 0.5.4.\n",
      "Set the environment variable OUTDATED_IGNORE=1 to disable these warnings.\n",
      "  **kwargs\n"
     ]
    }
   ],
   "source": [
    "df_groups = read_yandex_disk('https://disk.yandex.ru/d/UhyYx41rTt3clQ', ';')\n",
    "df_groups_add = read_yandex_disk('https://disk.yandex.ru/d/5Kxrz02m3IBUwQ')\n",
    "df_active_studs = read_yandex_disk('https://disk.yandex.ru/d/Tbs44Bm6H_FwFQ')\n",
    "df_checks = read_yandex_disk('https://disk.yandex.ru/d/pH1q-VqcxXjsVA', ';')\n"
   ]
  },
  {
   "cell_type": "markdown",
   "id": "a4b614a2",
   "metadata": {},
   "source": [
    "### Предварительный анализ данных:\n",
    "1. Проверить есть ли дубликаты в данных\n",
    "2. Какая группа больше?\n",
    "3. Вид распределения транзакций\n",
    "4. Сформировать таблицу со следующими данными:\n",
    "    - student_id\n",
    "    - grp\n",
    "    - rev\n",
    "    - open_web - открывал ли сайт пользователь\n",
    "    - made_purchase - сделал ли покупку\n",
    "5. Есть ли аномалии в данных\n",
    "6. Исключить аномалии из данных"
   ]
  },
  {
   "cell_type": "markdown",
   "id": "28065044",
   "metadata": {},
   "source": [
    "### df_groups\n",
    "Подробно изучим данные из датасета groups.csv"
   ]
  },
  {
   "cell_type": "markdown",
   "id": "e9e0a1ec",
   "metadata": {},
   "source": [
    "Общее число записей"
   ]
  },
  {
   "cell_type": "code",
   "execution_count": 4,
   "id": "c08e80bd",
   "metadata": {},
   "outputs": [
    {
     "data": {
      "text/plain": [
       "(74484, 2)"
      ]
     },
     "execution_count": 4,
     "metadata": {},
     "output_type": "execute_result"
    }
   ],
   "source": [
    "df_groups.shape"
   ]
  },
  {
   "cell_type": "markdown",
   "id": "2d7b3ffd",
   "metadata": {},
   "source": [
    "Проверим распределение студентов по группам"
   ]
  },
  {
   "cell_type": "code",
   "execution_count": 5,
   "id": "09ace525",
   "metadata": {},
   "outputs": [
    {
     "data": {
      "text/html": [
       "<div>\n",
       "<style scoped>\n",
       "    .dataframe tbody tr th:only-of-type {\n",
       "        vertical-align: middle;\n",
       "    }\n",
       "\n",
       "    .dataframe tbody tr th {\n",
       "        vertical-align: top;\n",
       "    }\n",
       "\n",
       "    .dataframe thead th {\n",
       "        text-align: right;\n",
       "    }\n",
       "</style>\n",
       "<table border=\"1\" class=\"dataframe\">\n",
       "  <thead>\n",
       "    <tr style=\"text-align: right;\">\n",
       "      <th></th>\n",
       "      <th>grp</th>\n",
       "      <th>id</th>\n",
       "    </tr>\n",
       "  </thead>\n",
       "  <tbody>\n",
       "    <tr>\n",
       "      <th>0</th>\n",
       "      <td>A</td>\n",
       "      <td>14671</td>\n",
       "    </tr>\n",
       "    <tr>\n",
       "      <th>1</th>\n",
       "      <td>B</td>\n",
       "      <td>59813</td>\n",
       "    </tr>\n",
       "  </tbody>\n",
       "</table>\n",
       "</div>"
      ],
      "text/plain": [
       "  grp     id\n",
       "0   A  14671\n",
       "1   B  59813"
      ]
     },
     "execution_count": 5,
     "metadata": {},
     "output_type": "execute_result"
    }
   ],
   "source": [
    "df_groups.groupby(\"grp\", as_index=False)\\\n",
    "    .agg({'id': 'count'})"
   ]
  },
  {
   "cell_type": "code",
   "execution_count": 6,
   "id": "592fb59b",
   "metadata": {},
   "outputs": [
    {
     "data": {
      "text/plain": [
       "<matplotlib.axes._subplots.AxesSubplot at 0x7feee50ff0f0>"
      ]
     },
     "execution_count": 6,
     "metadata": {},
     "output_type": "execute_result"
    },
    {
     "data": {
      "image/png": "[encoded data removed]",
      "text/plain": [
       "<Figure size 432x288 with 1 Axes>"
      ]
     },
     "metadata": {
      "needs_background": "light"
     },
     "output_type": "display_data"
    }
   ],
   "source": [
    "sns.histplot(x='grp', data=df_groups)"
   ]
  },
  {
   "cell_type": "markdown",
   "id": "44f1e8f8",
   "metadata": {},
   "source": [
    "Распределение пользователей по группам **не равномерно**"
   ]
  },
  {
   "cell_type": "markdown",
   "id": "bc4ec907",
   "metadata": {},
   "source": [
    "Сколько пользователей приобрели наш продукт?"
   ]
  },
  {
   "cell_type": "code",
   "execution_count": 7,
   "id": "fbd75e5c",
   "metadata": {},
   "outputs": [
    {
     "data": {
      "text/html": [
       "<div>\n",
       "<style scoped>\n",
       "    .dataframe tbody tr th:only-of-type {\n",
       "        vertical-align: middle;\n",
       "    }\n",
       "\n",
       "    .dataframe tbody tr th {\n",
       "        vertical-align: top;\n",
       "    }\n",
       "\n",
       "    .dataframe thead th {\n",
       "        text-align: right;\n",
       "    }\n",
       "</style>\n",
       "<table border=\"1\" class=\"dataframe\">\n",
       "  <thead>\n",
       "    <tr style=\"text-align: right;\">\n",
       "      <th></th>\n",
       "      <th>grp</th>\n",
       "      <th>rev</th>\n",
       "    </tr>\n",
       "  </thead>\n",
       "  <tbody>\n",
       "    <tr>\n",
       "      <th>0</th>\n",
       "      <td>A</td>\n",
       "      <td>107</td>\n",
       "    </tr>\n",
       "    <tr>\n",
       "      <th>1</th>\n",
       "      <td>B</td>\n",
       "      <td>433</td>\n",
       "    </tr>\n",
       "  </tbody>\n",
       "</table>\n",
       "</div>"
      ],
      "text/plain": [
       "  grp  rev\n",
       "0   A  107\n",
       "1   B  433"
      ]
     },
     "execution_count": 7,
     "metadata": {},
     "output_type": "execute_result"
    }
   ],
   "source": [
    "df_1 = pd.merge(df_groups, df_checks, left_on='id', right_on='student_id', how='left')\n",
    "df_1.groupby(['grp'], as_index=False)\\\n",
    "    .agg({'rev':'count'})"
   ]
  },
  {
   "cell_type": "markdown",
   "id": "9064329e",
   "metadata": {},
   "source": [
    "### Выводы из исследования df_groups:\n",
    "1. В таблице **df_groups** приведены данные о том, в какую группу попал пользователь (id - идентификационный номер пользователя, grp - группа, в которую попал пользователь в период проведения эксперимента: А - контрольная, В - экспериментальная). \n",
    "2. Явно видно, что в экспериментальную группу попало больше пользователей, чем в контрольную. \n",
    "3. Общее число пользователей - 74 484, купили продукт - 540."
   ]
  },
  {
   "cell_type": "markdown",
   "id": "e9ad90d3",
   "metadata": {},
   "source": [
    "### df_groups_add\n",
    "Перейдем к данным из датасета df_groups_add.csv"
   ]
  },
  {
   "cell_type": "markdown",
   "id": "08c5b835",
   "metadata": {},
   "source": [
    "Общее число записей"
   ]
  },
  {
   "cell_type": "code",
   "execution_count": 8,
   "id": "c9d590e5",
   "metadata": {},
   "outputs": [
    {
     "data": {
      "text/plain": [
       "(92, 2)"
      ]
     },
     "execution_count": 8,
     "metadata": {},
     "output_type": "execute_result"
    }
   ],
   "source": [
    "df_groups_add.shape"
   ]
  },
  {
   "cell_type": "markdown",
   "id": "72ed7013",
   "metadata": {},
   "source": [
    "Проверим распределение студентов по группам"
   ]
  },
  {
   "cell_type": "code",
   "execution_count": 9,
   "id": "781c6029",
   "metadata": {},
   "outputs": [
    {
     "data": {
      "text/html": [
       "<div>\n",
       "<style scoped>\n",
       "    .dataframe tbody tr th:only-of-type {\n",
       "        vertical-align: middle;\n",
       "    }\n",
       "\n",
       "    .dataframe tbody tr th {\n",
       "        vertical-align: top;\n",
       "    }\n",
       "\n",
       "    .dataframe thead th {\n",
       "        text-align: right;\n",
       "    }\n",
       "</style>\n",
       "<table border=\"1\" class=\"dataframe\">\n",
       "  <thead>\n",
       "    <tr style=\"text-align: right;\">\n",
       "      <th></th>\n",
       "      <th>grp</th>\n",
       "      <th>id</th>\n",
       "    </tr>\n",
       "  </thead>\n",
       "  <tbody>\n",
       "    <tr>\n",
       "      <th>0</th>\n",
       "      <td>A</td>\n",
       "      <td>22</td>\n",
       "    </tr>\n",
       "    <tr>\n",
       "      <th>1</th>\n",
       "      <td>B</td>\n",
       "      <td>70</td>\n",
       "    </tr>\n",
       "  </tbody>\n",
       "</table>\n",
       "</div>"
      ],
      "text/plain": [
       "  grp  id\n",
       "0   A  22\n",
       "1   B  70"
      ]
     },
     "execution_count": 9,
     "metadata": {},
     "output_type": "execute_result"
    }
   ],
   "source": [
    "df_groups_add.groupby(\"grp\", as_index=False)\\\n",
    "    .agg({'id': 'count'})"
   ]
  },
  {
   "cell_type": "code",
   "execution_count": 10,
   "id": "5fb355b9",
   "metadata": {},
   "outputs": [
    {
     "data": {
      "text/plain": [
       "<matplotlib.axes._subplots.AxesSubplot at 0x7feec2fc66a0>"
      ]
     },
     "execution_count": 10,
     "metadata": {},
     "output_type": "execute_result"
    },
    {
     "data": {
      "image/png": "[encoded data removed]",
      "text/plain": [
       "<Figure size 432x288 with 1 Axes>"
      ]
     },
     "metadata": {
      "needs_background": "light"
     },
     "output_type": "display_data"
    }
   ],
   "source": [
    "sns.histplot(x='grp', data=df_groups_add)"
   ]
  },
  {
   "cell_type": "markdown",
   "id": "48a458fe",
   "metadata": {},
   "source": [
    "Как и в первом датасете распределение пользователей по группам **не равномерно**"
   ]
  },
  {
   "cell_type": "markdown",
   "id": "4a14e25e",
   "metadata": {},
   "source": [
    "Сколько пользователей приобрели наш продукт?"
   ]
  },
  {
   "cell_type": "code",
   "execution_count": 11,
   "id": "278da8f1",
   "metadata": {},
   "outputs": [],
   "source": [
    "df_2 = pd.merge(df_groups_add, df_checks, left_on='id', right_on='student_id', how='left')"
   ]
  },
  {
   "cell_type": "code",
   "execution_count": 12,
   "id": "9fcb1e18",
   "metadata": {},
   "outputs": [
    {
     "data": {
      "text/html": [
       "<div>\n",
       "<style scoped>\n",
       "    .dataframe tbody tr th:only-of-type {\n",
       "        vertical-align: middle;\n",
       "    }\n",
       "\n",
       "    .dataframe tbody tr th {\n",
       "        vertical-align: top;\n",
       "    }\n",
       "\n",
       "    .dataframe thead th {\n",
       "        text-align: right;\n",
       "    }\n",
       "</style>\n",
       "<table border=\"1\" class=\"dataframe\">\n",
       "  <thead>\n",
       "    <tr style=\"text-align: right;\">\n",
       "      <th></th>\n",
       "      <th>grp</th>\n",
       "      <th>rev</th>\n",
       "    </tr>\n",
       "  </thead>\n",
       "  <tbody>\n",
       "    <tr>\n",
       "      <th>0</th>\n",
       "      <td>A</td>\n",
       "      <td>0</td>\n",
       "    </tr>\n",
       "    <tr>\n",
       "      <th>1</th>\n",
       "      <td>B</td>\n",
       "      <td>1</td>\n",
       "    </tr>\n",
       "  </tbody>\n",
       "</table>\n",
       "</div>"
      ],
      "text/plain": [
       "  grp  rev\n",
       "0   A    0\n",
       "1   B    1"
      ]
     },
     "execution_count": 12,
     "metadata": {},
     "output_type": "execute_result"
    }
   ],
   "source": [
    "df_2.groupby(['grp'], as_index=False)\\\n",
    "    .agg({'rev':'count'})"
   ]
  },
  {
   "cell_type": "markdown",
   "id": "6dd04839",
   "metadata": {},
   "source": [
    "### Выводы из исследования df_groups_add:\n",
    "1. В таблице **df_groups_add** представлены данные о принадлежности пользователя к группе (id — идентификационный номер пользователя, grp — группа, в которую попал пользователь в период проведения эксперимента: А — контрольная, В — экспериментальная). \n",
    "2. Также видно, что в экспериментальную группу попало больше пользователей, чем в контрольную. \n",
    "3. Общее число пользователей - 92, купил продукт - 1."
   ]
  },
  {
   "cell_type": "markdown",
   "id": "7fd2f747",
   "metadata": {},
   "source": [
    "### Объединим датасеты df_groups_add и df_groups \n",
    "Проверим:\n",
    "- есть ли дубликаты в данных \n",
    "- корректность сплит-системы"
   ]
  },
  {
   "cell_type": "code",
   "execution_count": 13,
   "id": "9bacd8f3",
   "metadata": {},
   "outputs": [],
   "source": [
    "df_groups_all = df_groups.append(df_groups_add, ignore_index=True)"
   ]
  },
  {
   "cell_type": "code",
   "execution_count": 14,
   "id": "6f8c4109",
   "metadata": {},
   "outputs": [
    {
     "data": {
      "text/plain": [
       "(74576, 2)"
      ]
     },
     "execution_count": 14,
     "metadata": {},
     "output_type": "execute_result"
    }
   ],
   "source": [
    "df_groups_all.shape"
   ]
  },
  {
   "cell_type": "code",
   "execution_count": 15,
   "id": "52415971",
   "metadata": {},
   "outputs": [
    {
     "name": "stdout",
     "output_type": "stream",
     "text": [
      "Нет дубликатов\n"
     ]
    }
   ],
   "source": [
    "if df_groups_all.duplicated().sum() > 0:\n",
    "    print('Дубликаты обнаружены')\n",
    "else:\n",
    "    print('Нет дубликатов')"
   ]
  },
  {
   "cell_type": "code",
   "execution_count": 16,
   "id": "9b7aec8a",
   "metadata": {},
   "outputs": [
    {
     "data": {
      "text/plain": [
       "set()"
      ]
     },
     "execution_count": 16,
     "metadata": {},
     "output_type": "execute_result"
    }
   ],
   "source": [
    "group_a = set(df_groups_all.query(\"grp == 'A'\").id)\n",
    "group_b = set(df_groups_all.query(\"grp == 'B'\").id)\n",
    "\n",
    "group_a.intersection(group_b)"
   ]
  },
  {
   "cell_type": "markdown",
   "id": "77a8d062",
   "metadata": {},
   "source": [
    "Сплит-система работает корректно. Пользователи, которые попали в контрольную группу не появились в экспериментальной и наоборот"
   ]
  },
  {
   "cell_type": "markdown",
   "id": "33c467d2",
   "metadata": {},
   "source": [
    "### active_studs\n",
    "Изучим данные из файла active_studs.csv"
   ]
  },
  {
   "cell_type": "code",
   "execution_count": 17,
   "id": "1ceb82d4",
   "metadata": {},
   "outputs": [
    {
     "data": {
      "text/html": [
       "<div>\n",
       "<style scoped>\n",
       "    .dataframe tbody tr th:only-of-type {\n",
       "        vertical-align: middle;\n",
       "    }\n",
       "\n",
       "    .dataframe tbody tr th {\n",
       "        vertical-align: top;\n",
       "    }\n",
       "\n",
       "    .dataframe thead th {\n",
       "        text-align: right;\n",
       "    }\n",
       "</style>\n",
       "<table border=\"1\" class=\"dataframe\">\n",
       "  <thead>\n",
       "    <tr style=\"text-align: right;\">\n",
       "      <th></th>\n",
       "      <th>student_id</th>\n",
       "    </tr>\n",
       "  </thead>\n",
       "  <tbody>\n",
       "    <tr>\n",
       "      <th>0</th>\n",
       "      <td>581585</td>\n",
       "    </tr>\n",
       "    <tr>\n",
       "      <th>1</th>\n",
       "      <td>5723133</td>\n",
       "    </tr>\n",
       "    <tr>\n",
       "      <th>2</th>\n",
       "      <td>3276743</td>\n",
       "    </tr>\n",
       "    <tr>\n",
       "      <th>3</th>\n",
       "      <td>4238589</td>\n",
       "    </tr>\n",
       "    <tr>\n",
       "      <th>4</th>\n",
       "      <td>4475369</td>\n",
       "    </tr>\n",
       "  </tbody>\n",
       "</table>\n",
       "</div>"
      ],
      "text/plain": [
       "   student_id\n",
       "0      581585\n",
       "1     5723133\n",
       "2     3276743\n",
       "3     4238589\n",
       "4     4475369"
      ]
     },
     "execution_count": 17,
     "metadata": {},
     "output_type": "execute_result"
    }
   ],
   "source": [
    "df_active_studs.head()"
   ]
  },
  {
   "cell_type": "code",
   "execution_count": 18,
   "id": "a744a73f",
   "metadata": {},
   "outputs": [
    {
     "data": {
      "text/plain": [
       "(8341, 1)"
      ]
     },
     "execution_count": 18,
     "metadata": {},
     "output_type": "execute_result"
    }
   ],
   "source": [
    "df_active_studs.shape"
   ]
  },
  {
   "cell_type": "code",
   "execution_count": 19,
   "id": "89cb0026",
   "metadata": {},
   "outputs": [
    {
     "name": "stdout",
     "output_type": "stream",
     "text": [
      "Нет дубликатов\n"
     ]
    }
   ],
   "source": [
    "if df_active_studs.duplicated().sum() > 0:\n",
    "    print('Дубликаты обнаружены')\n",
    "else:\n",
    "    print('Нет дубликатов')"
   ]
  },
  {
   "cell_type": "code",
   "execution_count": 20,
   "id": "fd8f7499",
   "metadata": {},
   "outputs": [],
   "source": [
    "df_active_studs['open_web'] = [1] * df_active_studs.shape[0]"
   ]
  },
  {
   "cell_type": "markdown",
   "id": "b484d81b",
   "metadata": {},
   "source": [
    "### Вывод из исследования active_studs:\n",
    "1. В данном датасете представлены id студентов, которые заходили на платформу в период проведения эксперимента\n",
    "2. Дубликаты не были обнаружены\n",
    "3. В дни проведения эксперимента только 8 341 студента посетили сайт"
   ]
  },
  {
   "cell_type": "markdown",
   "id": "01c989f2",
   "metadata": {},
   "source": [
    "### df_checks\n",
    "Исследуем последний датафрейм \n",
    "1. Найдем общее количество транзакций\n",
    "2. Проверим есть ли дубликаты в данных\n",
    "3. Построим распределение суммы покупки "
   ]
  },
  {
   "cell_type": "code",
   "execution_count": 21,
   "id": "88e034c6",
   "metadata": {},
   "outputs": [
    {
     "data": {
      "text/html": [
       "<div>\n",
       "<style scoped>\n",
       "    .dataframe tbody tr th:only-of-type {\n",
       "        vertical-align: middle;\n",
       "    }\n",
       "\n",
       "    .dataframe tbody tr th {\n",
       "        vertical-align: top;\n",
       "    }\n",
       "\n",
       "    .dataframe thead th {\n",
       "        text-align: right;\n",
       "    }\n",
       "</style>\n",
       "<table border=\"1\" class=\"dataframe\">\n",
       "  <thead>\n",
       "    <tr style=\"text-align: right;\">\n",
       "      <th></th>\n",
       "      <th>student_id</th>\n",
       "      <th>rev</th>\n",
       "    </tr>\n",
       "  </thead>\n",
       "  <tbody>\n",
       "    <tr>\n",
       "      <th>0</th>\n",
       "      <td>1627</td>\n",
       "      <td>990.0</td>\n",
       "    </tr>\n",
       "    <tr>\n",
       "      <th>1</th>\n",
       "      <td>3185</td>\n",
       "      <td>690.0</td>\n",
       "    </tr>\n",
       "    <tr>\n",
       "      <th>2</th>\n",
       "      <td>25973</td>\n",
       "      <td>690.0</td>\n",
       "    </tr>\n",
       "    <tr>\n",
       "      <th>3</th>\n",
       "      <td>26280</td>\n",
       "      <td>690.0</td>\n",
       "    </tr>\n",
       "    <tr>\n",
       "      <th>4</th>\n",
       "      <td>100300</td>\n",
       "      <td>990.0</td>\n",
       "    </tr>\n",
       "  </tbody>\n",
       "</table>\n",
       "</div>"
      ],
      "text/plain": [
       "   student_id    rev\n",
       "0        1627  990.0\n",
       "1        3185  690.0\n",
       "2       25973  690.0\n",
       "3       26280  690.0\n",
       "4      100300  990.0"
      ]
     },
     "execution_count": 21,
     "metadata": {},
     "output_type": "execute_result"
    }
   ],
   "source": [
    "df_checks.head()"
   ]
  },
  {
   "cell_type": "code",
   "execution_count": 22,
   "id": "bcd172b9",
   "metadata": {},
   "outputs": [
    {
     "data": {
      "text/plain": [
       "(541, 2)"
      ]
     },
     "execution_count": 22,
     "metadata": {},
     "output_type": "execute_result"
    }
   ],
   "source": [
    "df_checks.shape"
   ]
  },
  {
   "cell_type": "code",
   "execution_count": 23,
   "id": "2d4bec6f",
   "metadata": {},
   "outputs": [
    {
     "data": {
      "text/plain": [
       "Text(0, 0.5, '')"
      ]
     },
     "execution_count": 23,
     "metadata": {},
     "output_type": "execute_result"
    },
    {
     "data": {
      "image/png": "[encoded data removed]",
      "text/plain": [
       "<Figure size 432x288 with 1 Axes>"
      ]
     },
     "metadata": {
      "needs_background": "light"
     },
     "output_type": "display_data"
    }
   ],
   "source": [
    "ax = sns.histplot(data=df_checks, x='rev', bins=20)\n",
    "plt.xlabel(\"Сумма покупки\")\n",
    "plt.ylabel(\"\")"
   ]
  },
  {
   "cell_type": "code",
   "execution_count": 24,
   "id": "cc39ae3f",
   "metadata": {},
   "outputs": [
    {
     "name": "stdout",
     "output_type": "stream",
     "text": [
      "Нет дубликатов\n"
     ]
    }
   ],
   "source": [
    "if df_checks.duplicated().sum() > 0:\n",
    "    print('Дубликаты обнаружены')\n",
    "else:\n",
    "    print('Нет дубликатов')"
   ]
  },
  {
   "cell_type": "code",
   "execution_count": 25,
   "id": "b8e0813b",
   "metadata": {},
   "outputs": [
    {
     "data": {
      "text/html": [
       "<div>\n",
       "<style scoped>\n",
       "    .dataframe tbody tr th:only-of-type {\n",
       "        vertical-align: middle;\n",
       "    }\n",
       "\n",
       "    .dataframe tbody tr th {\n",
       "        vertical-align: top;\n",
       "    }\n",
       "\n",
       "    .dataframe thead th {\n",
       "        text-align: right;\n",
       "    }\n",
       "</style>\n",
       "<table border=\"1\" class=\"dataframe\">\n",
       "  <thead>\n",
       "    <tr style=\"text-align: right;\">\n",
       "      <th></th>\n",
       "      <th>student_id</th>\n",
       "      <th>rev</th>\n",
       "    </tr>\n",
       "  </thead>\n",
       "  <tbody>\n",
       "    <tr>\n",
       "      <th>count</th>\n",
       "      <td>5.410000e+02</td>\n",
       "      <td>541.000000</td>\n",
       "    </tr>\n",
       "    <tr>\n",
       "      <th>mean</th>\n",
       "      <td>2.514772e+06</td>\n",
       "      <td>1059.752317</td>\n",
       "    </tr>\n",
       "    <tr>\n",
       "      <th>std</th>\n",
       "      <td>1.726839e+06</td>\n",
       "      <td>762.712359</td>\n",
       "    </tr>\n",
       "    <tr>\n",
       "      <th>min</th>\n",
       "      <td>1.627000e+03</td>\n",
       "      <td>199.000000</td>\n",
       "    </tr>\n",
       "    <tr>\n",
       "      <th>25%</th>\n",
       "      <td>9.871290e+05</td>\n",
       "      <td>290.000000</td>\n",
       "    </tr>\n",
       "    <tr>\n",
       "      <th>50%</th>\n",
       "      <td>2.526021e+06</td>\n",
       "      <td>840.000000</td>\n",
       "    </tr>\n",
       "    <tr>\n",
       "      <th>75%</th>\n",
       "      <td>3.993249e+06</td>\n",
       "      <td>1900.000000</td>\n",
       "    </tr>\n",
       "    <tr>\n",
       "      <th>max</th>\n",
       "      <td>5.740903e+06</td>\n",
       "      <td>4650.000000</td>\n",
       "    </tr>\n",
       "  </tbody>\n",
       "</table>\n",
       "</div>"
      ],
      "text/plain": [
       "         student_id          rev\n",
       "count  5.410000e+02   541.000000\n",
       "mean   2.514772e+06  1059.752317\n",
       "std    1.726839e+06   762.712359\n",
       "min    1.627000e+03   199.000000\n",
       "25%    9.871290e+05   290.000000\n",
       "50%    2.526021e+06   840.000000\n",
       "75%    3.993249e+06  1900.000000\n",
       "max    5.740903e+06  4650.000000"
      ]
     },
     "execution_count": 25,
     "metadata": {},
     "output_type": "execute_result"
    }
   ],
   "source": [
    "df_checks.describe()"
   ]
  },
  {
   "cell_type": "code",
   "execution_count": 26,
   "id": "9918fe4a",
   "metadata": {},
   "outputs": [
    {
     "name": "stdout",
     "output_type": "stream",
     "text": [
      "<class 'pandas.core.frame.DataFrame'>\n",
      "RangeIndex: 541 entries, 0 to 540\n",
      "Data columns (total 2 columns):\n",
      " #   Column      Non-Null Count  Dtype  \n",
      "---  ------      --------------  -----  \n",
      " 0   student_id  541 non-null    int64  \n",
      " 1   rev         541 non-null    float64\n",
      "dtypes: float64(1), int64(1)\n",
      "memory usage: 8.6 KB\n"
     ]
    }
   ],
   "source": [
    "df_checks.info()"
   ]
  },
  {
   "cell_type": "markdown",
   "id": "611bb2a3",
   "metadata": {},
   "source": [
    "### Вывод из исследования df_checks:\n",
    "1. В данном датасете представлены id студентов, которые купили наш продукт и выручка \n",
    "2. Дубликаты не были обнаружены\n",
    "3. В дни проведения эксперимента оплата была произведена 541 раз"
   ]
  },
  {
   "cell_type": "markdown",
   "id": "1b6aa733",
   "metadata": {},
   "source": [
    "### Составим общий датасет df_revenue_all"
   ]
  },
  {
   "cell_type": "code",
   "execution_count": 27,
   "id": "b43a2446",
   "metadata": {},
   "outputs": [
    {
     "data": {
      "text/plain": [
       "(74576, 5)"
      ]
     },
     "execution_count": 27,
     "metadata": {},
     "output_type": "execute_result"
    }
   ],
   "source": [
    "df_revenue_all = pd.merge(df_groups_all, df_checks, left_on='id', right_on='student_id', how='left')\\\n",
    "    .drop(columns='student_id', axis=1).rename(columns={'id':'student_id'})\n",
    "df_revenue_all = df_revenue_all.merge(df_active_studs, on='student_id', how='left')\n",
    "df_revenue_all['made_purchase'] = df_revenue_all.rev.apply(lambda x: 1 if x > 0 else 0)\n",
    "df_revenue_all.open_web = df_revenue_all.open_web.fillna(0).astype(int)\n",
    "df_revenue_all.shape"
   ]
  },
  {
   "cell_type": "markdown",
   "id": "4bf997b4",
   "metadata": {},
   "source": [
    "Проведем поиск аномалий в данных"
   ]
  },
  {
   "cell_type": "code",
   "execution_count": 28,
   "id": "da5cd7d4",
   "metadata": {},
   "outputs": [
    {
     "data": {
      "text/html": [
       "<div>\n",
       "<style scoped>\n",
       "    .dataframe tbody tr th:only-of-type {\n",
       "        vertical-align: middle;\n",
       "    }\n",
       "\n",
       "    .dataframe tbody tr th {\n",
       "        vertical-align: top;\n",
       "    }\n",
       "\n",
       "    .dataframe thead th {\n",
       "        text-align: right;\n",
       "    }\n",
       "</style>\n",
       "<table border=\"1\" class=\"dataframe\">\n",
       "  <thead>\n",
       "    <tr style=\"text-align: right;\">\n",
       "      <th></th>\n",
       "      <th>grp</th>\n",
       "      <th>open_web</th>\n",
       "      <th>made_purchase</th>\n",
       "      <th>student_id</th>\n",
       "    </tr>\n",
       "  </thead>\n",
       "  <tbody>\n",
       "    <tr>\n",
       "      <th>0</th>\n",
       "      <td>A</td>\n",
       "      <td>0</td>\n",
       "      <td>0</td>\n",
       "      <td>13126</td>\n",
       "    </tr>\n",
       "    <tr>\n",
       "      <th>1</th>\n",
       "      <td>A</td>\n",
       "      <td>0</td>\n",
       "      <td>1</td>\n",
       "      <td>29</td>\n",
       "    </tr>\n",
       "    <tr>\n",
       "      <th>2</th>\n",
       "      <td>A</td>\n",
       "      <td>1</td>\n",
       "      <td>0</td>\n",
       "      <td>1460</td>\n",
       "    </tr>\n",
       "    <tr>\n",
       "      <th>3</th>\n",
       "      <td>A</td>\n",
       "      <td>1</td>\n",
       "      <td>1</td>\n",
       "      <td>78</td>\n",
       "    </tr>\n",
       "    <tr>\n",
       "      <th>4</th>\n",
       "      <td>B</td>\n",
       "      <td>0</td>\n",
       "      <td>0</td>\n",
       "      <td>52960</td>\n",
       "    </tr>\n",
       "    <tr>\n",
       "      <th>5</th>\n",
       "      <td>B</td>\n",
       "      <td>0</td>\n",
       "      <td>1</td>\n",
       "      <td>120</td>\n",
       "    </tr>\n",
       "    <tr>\n",
       "      <th>6</th>\n",
       "      <td>B</td>\n",
       "      <td>1</td>\n",
       "      <td>0</td>\n",
       "      <td>6489</td>\n",
       "    </tr>\n",
       "    <tr>\n",
       "      <th>7</th>\n",
       "      <td>B</td>\n",
       "      <td>1</td>\n",
       "      <td>1</td>\n",
       "      <td>314</td>\n",
       "    </tr>\n",
       "  </tbody>\n",
       "</table>\n",
       "</div>"
      ],
      "text/plain": [
       "  grp  open_web  made_purchase  student_id\n",
       "0   A         0              0       13126\n",
       "1   A         0              1          29\n",
       "2   A         1              0        1460\n",
       "3   A         1              1          78\n",
       "4   B         0              0       52960\n",
       "5   B         0              1         120\n",
       "6   B         1              0        6489\n",
       "7   B         1              1         314"
      ]
     },
     "execution_count": 28,
     "metadata": {},
     "output_type": "execute_result"
    }
   ],
   "source": [
    "# количество студентов в разных когортах\n",
    "df_revenue_all.groupby(['grp', 'open_web', 'made_purchase'], as_index=False)\\\n",
    "    .agg({'student_id': 'count'})"
   ]
  },
  {
   "cell_type": "code",
   "execution_count": 29,
   "id": "e003e042",
   "metadata": {},
   "outputs": [
    {
     "data": {
      "text/html": [
       "<div>\n",
       "<style scoped>\n",
       "    .dataframe tbody tr th:only-of-type {\n",
       "        vertical-align: middle;\n",
       "    }\n",
       "\n",
       "    .dataframe tbody tr th {\n",
       "        vertical-align: top;\n",
       "    }\n",
       "\n",
       "    .dataframe thead th {\n",
       "        text-align: right;\n",
       "    }\n",
       "</style>\n",
       "<table border=\"1\" class=\"dataframe\">\n",
       "  <thead>\n",
       "    <tr style=\"text-align: right;\">\n",
       "      <th></th>\n",
       "      <th>grp</th>\n",
       "      <th>open_web</th>\n",
       "    </tr>\n",
       "  </thead>\n",
       "  <tbody>\n",
       "    <tr>\n",
       "      <th>0</th>\n",
       "      <td>A</td>\n",
       "      <td>107</td>\n",
       "    </tr>\n",
       "    <tr>\n",
       "      <th>1</th>\n",
       "      <td>B</td>\n",
       "      <td>434</td>\n",
       "    </tr>\n",
       "  </tbody>\n",
       "</table>\n",
       "</div>"
      ],
      "text/plain": [
       "  grp  open_web\n",
       "0   A       107\n",
       "1   B       434"
      ]
     },
     "execution_count": 29,
     "metadata": {},
     "output_type": "execute_result"
    }
   ],
   "source": [
    "# Общее часло клиентов, которые совершили покупку \n",
    "df_revenue_all.query(\"made_purchase == 1\")\\\n",
    "    .groupby('grp', as_index=False)\\\n",
    "    .agg({'open_web':'count'})"
   ]
  },
  {
   "cell_type": "code",
   "execution_count": 30,
   "id": "626e97ee",
   "metadata": {},
   "outputs": [
    {
     "data": {
      "text/html": [
       "<div>\n",
       "<style scoped>\n",
       "    .dataframe tbody tr th:only-of-type {\n",
       "        vertical-align: middle;\n",
       "    }\n",
       "\n",
       "    .dataframe tbody tr th {\n",
       "        vertical-align: top;\n",
       "    }\n",
       "\n",
       "    .dataframe thead th {\n",
       "        text-align: right;\n",
       "    }\n",
       "</style>\n",
       "<table border=\"1\" class=\"dataframe\">\n",
       "  <thead>\n",
       "    <tr style=\"text-align: right;\">\n",
       "      <th></th>\n",
       "      <th>grp</th>\n",
       "      <th>open_web</th>\n",
       "    </tr>\n",
       "  </thead>\n",
       "  <tbody>\n",
       "    <tr>\n",
       "      <th>0</th>\n",
       "      <td>A</td>\n",
       "      <td>1538</td>\n",
       "    </tr>\n",
       "    <tr>\n",
       "      <th>1</th>\n",
       "      <td>B</td>\n",
       "      <td>6803</td>\n",
       "    </tr>\n",
       "  </tbody>\n",
       "</table>\n",
       "</div>"
      ],
      "text/plain": [
       "  grp  open_web\n",
       "0   A      1538\n",
       "1   B      6803"
      ]
     },
     "execution_count": 30,
     "metadata": {},
     "output_type": "execute_result"
    }
   ],
   "source": [
    "# Студенты, которые посетили сайт\n",
    "df_revenue_all.groupby('grp', as_index=False)\\\n",
    "    .agg({'open_web':'sum'})"
   ]
  },
  {
   "cell_type": "code",
   "execution_count": 31,
   "id": "e81c1be0",
   "metadata": {},
   "outputs": [
    {
     "data": {
      "text/html": [
       "<div>\n",
       "<style scoped>\n",
       "    .dataframe tbody tr th:only-of-type {\n",
       "        vertical-align: middle;\n",
       "    }\n",
       "\n",
       "    .dataframe tbody tr th {\n",
       "        vertical-align: top;\n",
       "    }\n",
       "\n",
       "    .dataframe thead th {\n",
       "        text-align: right;\n",
       "    }\n",
       "</style>\n",
       "<table border=\"1\" class=\"dataframe\">\n",
       "  <thead>\n",
       "    <tr style=\"text-align: right;\">\n",
       "      <th></th>\n",
       "      <th>grp</th>\n",
       "      <th>student_id</th>\n",
       "    </tr>\n",
       "  </thead>\n",
       "  <tbody>\n",
       "    <tr>\n",
       "      <th>0</th>\n",
       "      <td>A</td>\n",
       "      <td>14693</td>\n",
       "    </tr>\n",
       "    <tr>\n",
       "      <th>1</th>\n",
       "      <td>B</td>\n",
       "      <td>59883</td>\n",
       "    </tr>\n",
       "  </tbody>\n",
       "</table>\n",
       "</div>"
      ],
      "text/plain": [
       "  grp  student_id\n",
       "0   A       14693\n",
       "1   B       59883"
      ]
     },
     "execution_count": 31,
     "metadata": {},
     "output_type": "execute_result"
    }
   ],
   "source": [
    "# Общее число студентов в группах\n",
    "df_revenue_all.groupby('grp', as_index=False)\\\n",
    "    .agg({'student_id':'count'})"
   ]
  },
  {
   "cell_type": "markdown",
   "id": "d6d4cdd5",
   "metadata": {},
   "source": [
    "Распределение "
   ]
  },
  {
   "cell_type": "code",
   "execution_count": 32,
   "id": "4ded6a93",
   "metadata": {},
   "outputs": [
    {
     "data": {
      "text/plain": [
       "Text(0, 0.5, '')"
      ]
     },
     "execution_count": 32,
     "metadata": {},
     "output_type": "execute_result"
    },
    {
     "data": {
      "image/png": "[encoded data removed]",
      "text/plain": [
       "<Figure size 1296x504 with 2 Axes>"
      ]
     },
     "metadata": {
      "needs_background": "light"
     },
     "output_type": "display_data"
    }
   ],
   "source": [
    "fig = plt.figure(figsize=(18, 7))\n",
    "\n",
    "plt.subplot(1, 2, 1)\n",
    "sns.histplot(data=df_revenue_all, x='rev', \n",
    "             bins=20, hue='grp')\n",
    "plt.xlabel(\"Сумма покупки\")\n",
    "plt.title(\"Все транзакции\")\n",
    "plt.ylabel(\"\")\n",
    "\n",
    "plt.subplot(1, 2, 2)\n",
    "sns.histplot(data=df_revenue_all.query(\"~ (made_purchase == 1 and open_web == 0)\"), \n",
    "             x='rev', \n",
    "             bins=20, hue='grp')\n",
    "plt.xlabel(\"Сумма покупки\")\n",
    "plt.title(\"Исключены транзакции без посещения сайта\")\n",
    "plt.ylabel(\"\")"
   ]
  },
  {
   "cell_type": "code",
   "execution_count": 33,
   "id": "254297d7",
   "metadata": {},
   "outputs": [
    {
     "data": {
      "text/plain": [
       "Text(0, 0.5, '')"
      ]
     },
     "execution_count": 33,
     "metadata": {},
     "output_type": "execute_result"
    },
    {
     "data": {
      "image/png": "[encoded data removed]",
      "text/plain": [
       "<Figure size 1296x504 with 2 Axes>"
      ]
     },
     "metadata": {
      "needs_background": "light"
     },
     "output_type": "display_data"
    }
   ],
   "source": [
    "fig = plt.figure(figsize=(18, 7))\n",
    "mean_a = np.mean(df_revenue_all.query(\"grp == 'A'\").rev)\n",
    "mean_b = np.mean(df_revenue_all.query(\"grp == 'B'\").rev)\n",
    "plt.subplot(1, 2, 1)\n",
    "sns.histplot(data=df_revenue_all.query(\"grp == 'A'\"), x='rev')\n",
    "plt.axvline(mean_a, ymin=0, ymax=1, color='b')\n",
    "plt.xlabel(\"Сумма покупки\")\n",
    "plt.title(\"Контрольная группа\")\n",
    "plt.ylabel(\"\")\n",
    "\n",
    "plt.subplot(1, 2, 2)\n",
    "sns.histplot(data=df_revenue_all.query(\"grp == 'B'\"),\n",
    "             x='rev')\n",
    "plt.axvline(mean_b, ymin=0, ymax=1, color='b')\n",
    "plt.xlabel(\"Сумма покупки\")\n",
    "plt.title(\"Экспериментальная группа\")\n",
    "plt.ylabel(\"\")\n"
   ]
  },
  {
   "cell_type": "code",
   "execution_count": 34,
   "id": "10b35a78",
   "metadata": {},
   "outputs": [
    {
     "data": {
      "text/html": [
       "<div>\n",
       "<style scoped>\n",
       "    .dataframe tbody tr th:only-of-type {\n",
       "        vertical-align: middle;\n",
       "    }\n",
       "\n",
       "    .dataframe tbody tr th {\n",
       "        vertical-align: top;\n",
       "    }\n",
       "\n",
       "    .dataframe thead th {\n",
       "        text-align: right;\n",
       "    }\n",
       "</style>\n",
       "<table border=\"1\" class=\"dataframe\">\n",
       "  <thead>\n",
       "    <tr style=\"text-align: right;\">\n",
       "      <th></th>\n",
       "      <th>W</th>\n",
       "      <th>pval</th>\n",
       "      <th>normal</th>\n",
       "    </tr>\n",
       "  </thead>\n",
       "  <tbody>\n",
       "    <tr>\n",
       "      <th>B</th>\n",
       "      <td>0.867236</td>\n",
       "      <td>8.947893e-19</td>\n",
       "      <td>False</td>\n",
       "    </tr>\n",
       "    <tr>\n",
       "      <th>A</th>\n",
       "      <td>0.719612</td>\n",
       "      <td>5.321688e-13</td>\n",
       "      <td>False</td>\n",
       "    </tr>\n",
       "  </tbody>\n",
       "</table>\n",
       "</div>"
      ],
      "text/plain": [
       "          W          pval  normal\n",
       "B  0.867236  8.947893e-19   False\n",
       "A  0.719612  5.321688e-13   False"
      ]
     },
     "execution_count": 34,
     "metadata": {},
     "output_type": "execute_result"
    }
   ],
   "source": [
    "pg.normality(df_revenue_all, dv='rev', group='grp')"
   ]
  },
  {
   "cell_type": "code",
   "execution_count": 35,
   "id": "223201ff",
   "metadata": {},
   "outputs": [
    {
     "data": {
      "text/html": [
       "<div>\n",
       "<style scoped>\n",
       "    .dataframe tbody tr th:only-of-type {\n",
       "        vertical-align: middle;\n",
       "    }\n",
       "\n",
       "    .dataframe tbody tr th {\n",
       "        vertical-align: top;\n",
       "    }\n",
       "\n",
       "    .dataframe thead th {\n",
       "        text-align: right;\n",
       "    }\n",
       "</style>\n",
       "<table border=\"1\" class=\"dataframe\">\n",
       "  <thead>\n",
       "    <tr style=\"text-align: right;\">\n",
       "      <th></th>\n",
       "      <th>W</th>\n",
       "      <th>pval</th>\n",
       "      <th>normal</th>\n",
       "    </tr>\n",
       "  </thead>\n",
       "  <tbody>\n",
       "    <tr>\n",
       "      <th>B</th>\n",
       "      <td>0.854724</td>\n",
       "      <td>1.543702e-16</td>\n",
       "      <td>False</td>\n",
       "    </tr>\n",
       "    <tr>\n",
       "      <th>A</th>\n",
       "      <td>0.735324</td>\n",
       "      <td>1.498682e-10</td>\n",
       "      <td>False</td>\n",
       "    </tr>\n",
       "  </tbody>\n",
       "</table>\n",
       "</div>"
      ],
      "text/plain": [
       "          W          pval  normal\n",
       "B  0.854724  1.543702e-16   False\n",
       "A  0.735324  1.498682e-10   False"
      ]
     },
     "execution_count": 35,
     "metadata": {},
     "output_type": "execute_result"
    }
   ],
   "source": [
    "pg.normality(df_revenue_all.query(\"~ (made_purchase == 1 and open_web == 0)\"), \n",
    "             dv='rev', group='grp')"
   ]
  },
  {
   "cell_type": "code",
   "execution_count": 36,
   "id": "cdda57a2",
   "metadata": {},
   "outputs": [],
   "source": [
    "df_revenue_all = df_revenue_all.query(\"~ (made_purchase == 1 and open_web == 0)\")"
   ]
  },
  {
   "cell_type": "markdown",
   "id": "78f27fab",
   "metadata": {},
   "source": [
    "### Выводы:\n",
    "1. В группе **В** значительно больше пользователей (433 - пользователи, совершившие покупку, из них не заходили на сайт - 120, посетили веб-страницу - 314; 6 803 - зашли на сайт; 59 883 - всего), чем в **А** (107 - пользователи, совершившие покупку, из них: не заходили на сайт - 29, посетили веб-страницу - 78; 1538 - зашли на сайт; 14 693 - всего)\n",
    "3. Распределение значения прибыли, которую приносит один пользователь, не является нормальным \n",
    "4. Есть студенты, которые в период проведения эксперимента не заходили на сайт, но они совершили покупку. Их нужно исключить из  экспериментальной группы, так как они явно не воспользовались сайтом для оплаты продукта. Предположу, что они совершили покупку не через сайт, а с помощью другого канала (через сайт банка, отдел продаж или транзакция проходила по рассрочке, которую взяли ранее)\n",
    "5. Из таблицы df_revenue_all были исключены записи, где покупка была произведене, но пользователь не заходил на сайт."
   ]
  },
  {
   "cell_type": "markdown",
   "id": "5003811e",
   "metadata": {},
   "source": [
    "### Метрики:\n",
    "1. Выручка с 1 пользователя  \n",
    "2. Конверсия (CR):\n",
    "    - Абсолютная конверсия (CR в покупку) \n",
    "    $$CR = \\frac{client}{user}$$\n",
    "    - Относительная конверсия (СR пользователя, который заходил на сайт, в покупку)\n",
    "    $$CR = \\frac{client}{activ}$$\n",
    "    где user - кол-во пользователей, user - кол-во пользователей, activ - кол-во активных пользователей\n",
    "3. ARPPU (Average revenue per paying user)\n",
    "$$ARPPU = \\frac{rev}{client}$$\n",
    "где rev - выручка, client - кол-во клиентов\n",
    "\n",
    "4. ARPU (Average revenue per user)\n",
    "$$ARPU = \\frac{rev}{user}$$\n",
    "где rev - выручка, user - кол-во пользователей\n",
    "5. ARPAU (Average revenue per activ user)\n",
    "$$ARPAU = \\frac{rev}{activ}$$  \n",
    "где rev - выручка, activ - кол-во активных пользователей   \n",
    "Статистические методы:   \n",
    "    - T-тест\n",
    "    - хи-квадрат\n",
    "    - Bootstrap"
   ]
  },
  {
   "cell_type": "markdown",
   "id": "76f9f59b",
   "metadata": {},
   "source": [
    "### 1. Выручка  \n",
    "Проведем сравнение среднего значения выручки, которую приносит пользователь  \n",
    "$H_0$ - средние значения равны в двух группах  \n",
    "$H_1$ - средние значения не равны в двух группах  \n",
    "$\\alpha = 0,05$ "
   ]
  },
  {
   "cell_type": "code",
   "execution_count": 37,
   "id": "6889a340",
   "metadata": {},
   "outputs": [
    {
     "data": {
      "text/html": [
       "<div>\n",
       "<style scoped>\n",
       "    .dataframe tbody tr th:only-of-type {\n",
       "        vertical-align: middle;\n",
       "    }\n",
       "\n",
       "    .dataframe tbody tr th {\n",
       "        vertical-align: top;\n",
       "    }\n",
       "\n",
       "    .dataframe thead th {\n",
       "        text-align: right;\n",
       "    }\n",
       "</style>\n",
       "<table border=\"1\" class=\"dataframe\">\n",
       "  <thead>\n",
       "    <tr style=\"text-align: right;\">\n",
       "      <th></th>\n",
       "      <th>T</th>\n",
       "      <th>dof</th>\n",
       "      <th>alternative</th>\n",
       "      <th>p-val</th>\n",
       "      <th>CI95%</th>\n",
       "      <th>cohen-d</th>\n",
       "      <th>BF10</th>\n",
       "      <th>power</th>\n",
       "    </tr>\n",
       "  </thead>\n",
       "  <tbody>\n",
       "    <tr>\n",
       "      <th>T-test</th>\n",
       "      <td>-2.86169</td>\n",
       "      <td>106.981668</td>\n",
       "      <td>two-sided</td>\n",
       "      <td>0.00507</td>\n",
       "      <td>[-548.94, -99.64]</td>\n",
       "      <td>0.39646</td>\n",
       "      <td>6.536</td>\n",
       "      <td>0.878211</td>\n",
       "    </tr>\n",
       "  </tbody>\n",
       "</table>\n",
       "</div>"
      ],
      "text/plain": [
       "              T         dof alternative    p-val              CI95%  cohen-d  \\\n",
       "T-test -2.86169  106.981668   two-sided  0.00507  [-548.94, -99.64]  0.39646   \n",
       "\n",
       "         BF10     power  \n",
       "T-test  6.536  0.878211  "
      ]
     },
     "execution_count": 37,
     "metadata": {},
     "output_type": "execute_result"
    }
   ],
   "source": [
    "df_group_A = df_revenue_all.query(\"grp == 'A'\").rev.dropna()\n",
    "df_group_B = df_revenue_all.query(\"grp == 'B'\").rev.dropna()\n",
    "pg.ttest(df_group_A, df_group_B)"
   ]
  },
  {
   "cell_type": "markdown",
   "id": "fc894598",
   "metadata": {},
   "source": [
    "Вывод: принимаем альтернативную гипотезу. В группе \"B\" среднее значение выручки статистически значимо больше чем в группе \"А\""
   ]
  },
  {
   "cell_type": "markdown",
   "id": "1be7ff26",
   "metadata": {},
   "source": [
    "### 2. Конверсия \n",
    "\n",
    "$H_0 $ - конверсия не зависит от группы  \n",
    "$H_1 $ - конверсия зависит от группы  \n",
    "$\\alpha = 0,05$\n",
    "\n",
    "**Начнем с абсолютной конверсии (CR в покупку)**  \n",
    "*Студентов, которые не зашли на сайт, но купили наш продукт, я исключу из итогового датасета*"
   ]
  },
  {
   "cell_type": "code",
   "execution_count": 38,
   "id": "1509198d",
   "metadata": {},
   "outputs": [
    {
     "data": {
      "text/html": [
       "<div>\n",
       "<style scoped>\n",
       "    .dataframe tbody tr th:only-of-type {\n",
       "        vertical-align: middle;\n",
       "    }\n",
       "\n",
       "    .dataframe tbody tr th {\n",
       "        vertical-align: top;\n",
       "    }\n",
       "\n",
       "    .dataframe thead th {\n",
       "        text-align: right;\n",
       "    }\n",
       "</style>\n",
       "<table border=\"1\" class=\"dataframe\">\n",
       "  <thead>\n",
       "    <tr style=\"text-align: right;\">\n",
       "      <th></th>\n",
       "      <th>grp</th>\n",
       "      <th>made_purchase</th>\n",
       "      <th>student_id</th>\n",
       "      <th>CR</th>\n",
       "    </tr>\n",
       "  </thead>\n",
       "  <tbody>\n",
       "    <tr>\n",
       "      <th>0</th>\n",
       "      <td>A</td>\n",
       "      <td>78</td>\n",
       "      <td>14664</td>\n",
       "      <td>0.005319</td>\n",
       "    </tr>\n",
       "    <tr>\n",
       "      <th>1</th>\n",
       "      <td>B</td>\n",
       "      <td>314</td>\n",
       "      <td>59763</td>\n",
       "      <td>0.005254</td>\n",
       "    </tr>\n",
       "  </tbody>\n",
       "</table>\n",
       "</div>"
      ],
      "text/plain": [
       "  grp  made_purchase  student_id        CR\n",
       "0   A             78       14664  0.005319\n",
       "1   B            314       59763  0.005254"
      ]
     },
     "execution_count": 38,
     "metadata": {},
     "output_type": "execute_result"
    }
   ],
   "source": [
    "df_CR = df_revenue_all\\\n",
    "    .groupby('grp', as_index=False)\\\n",
    "    .agg({'made_purchase':'sum', 'student_id':'count'})\n",
    "df_CR['CR'] = df_CR.made_purchase / df_CR.student_id\n",
    "df_CR"
   ]
  },
  {
   "cell_type": "code",
   "execution_count": 39,
   "id": "a1563f68",
   "metadata": {},
   "outputs": [
    {
     "data": {
      "text/html": [
       "<div>\n",
       "<style scoped>\n",
       "    .dataframe tbody tr th:only-of-type {\n",
       "        vertical-align: middle;\n",
       "    }\n",
       "\n",
       "    .dataframe tbody tr th {\n",
       "        vertical-align: top;\n",
       "    }\n",
       "\n",
       "    .dataframe thead th {\n",
       "        text-align: right;\n",
       "    }\n",
       "</style>\n",
       "<table border=\"1\" class=\"dataframe\">\n",
       "  <thead>\n",
       "    <tr style=\"text-align: right;\">\n",
       "      <th></th>\n",
       "      <th>test</th>\n",
       "      <th>lambda</th>\n",
       "      <th>chi2</th>\n",
       "      <th>dof</th>\n",
       "      <th>pval</th>\n",
       "      <th>cramer</th>\n",
       "      <th>power</th>\n",
       "    </tr>\n",
       "  </thead>\n",
       "  <tbody>\n",
       "    <tr>\n",
       "      <th>0</th>\n",
       "      <td>pearson</td>\n",
       "      <td>1.000</td>\n",
       "      <td>0.001</td>\n",
       "      <td>1.0</td>\n",
       "      <td>0.973</td>\n",
       "      <td>0.0</td>\n",
       "      <td>0.05</td>\n",
       "    </tr>\n",
       "    <tr>\n",
       "      <th>1</th>\n",
       "      <td>cressie-read</td>\n",
       "      <td>0.667</td>\n",
       "      <td>0.001</td>\n",
       "      <td>1.0</td>\n",
       "      <td>0.973</td>\n",
       "      <td>0.0</td>\n",
       "      <td>0.05</td>\n",
       "    </tr>\n",
       "    <tr>\n",
       "      <th>2</th>\n",
       "      <td>log-likelihood</td>\n",
       "      <td>0.000</td>\n",
       "      <td>0.001</td>\n",
       "      <td>1.0</td>\n",
       "      <td>0.973</td>\n",
       "      <td>0.0</td>\n",
       "      <td>0.05</td>\n",
       "    </tr>\n",
       "    <tr>\n",
       "      <th>3</th>\n",
       "      <td>freeman-tukey</td>\n",
       "      <td>-0.500</td>\n",
       "      <td>0.001</td>\n",
       "      <td>1.0</td>\n",
       "      <td>0.973</td>\n",
       "      <td>0.0</td>\n",
       "      <td>0.05</td>\n",
       "    </tr>\n",
       "    <tr>\n",
       "      <th>4</th>\n",
       "      <td>mod-log-likelihood</td>\n",
       "      <td>-1.000</td>\n",
       "      <td>0.001</td>\n",
       "      <td>1.0</td>\n",
       "      <td>0.973</td>\n",
       "      <td>0.0</td>\n",
       "      <td>0.05</td>\n",
       "    </tr>\n",
       "    <tr>\n",
       "      <th>5</th>\n",
       "      <td>neyman</td>\n",
       "      <td>-2.000</td>\n",
       "      <td>0.001</td>\n",
       "      <td>1.0</td>\n",
       "      <td>0.973</td>\n",
       "      <td>0.0</td>\n",
       "      <td>0.05</td>\n",
       "    </tr>\n",
       "  </tbody>\n",
       "</table>\n",
       "</div>"
      ],
      "text/plain": [
       "                 test  lambda   chi2  dof   pval  cramer  power\n",
       "0             pearson   1.000  0.001  1.0  0.973     0.0   0.05\n",
       "1        cressie-read   0.667  0.001  1.0  0.973     0.0   0.05\n",
       "2      log-likelihood   0.000  0.001  1.0  0.973     0.0   0.05\n",
       "3       freeman-tukey  -0.500  0.001  1.0  0.973     0.0   0.05\n",
       "4  mod-log-likelihood  -1.000  0.001  1.0  0.973     0.0   0.05\n",
       "5              neyman  -2.000  0.001  1.0  0.973     0.0   0.05"
      ]
     },
     "execution_count": 39,
     "metadata": {},
     "output_type": "execute_result"
    }
   ],
   "source": [
    "expected, observed, stats = pg.chi2_independence(df_revenue_all, x='grp', y='made_purchase')\n",
    "stats.round(3)"
   ]
  },
  {
   "cell_type": "markdown",
   "id": "325ff943",
   "metadata": {},
   "source": [
    "Вывод: принимаем нулевую гипотезу. Абсолютная конверсия не зависит от группы \n",
    "\n",
    "**Посмотрим на относительную конверсию (СR пользователя, который заходил на сайт, в покупку)**"
   ]
  },
  {
   "cell_type": "code",
   "execution_count": 40,
   "id": "d1bc9901",
   "metadata": {},
   "outputs": [
    {
     "data": {
      "text/html": [
       "<div>\n",
       "<style scoped>\n",
       "    .dataframe tbody tr th:only-of-type {\n",
       "        vertical-align: middle;\n",
       "    }\n",
       "\n",
       "    .dataframe tbody tr th {\n",
       "        vertical-align: top;\n",
       "    }\n",
       "\n",
       "    .dataframe thead th {\n",
       "        text-align: right;\n",
       "    }\n",
       "</style>\n",
       "<table border=\"1\" class=\"dataframe\">\n",
       "  <thead>\n",
       "    <tr style=\"text-align: right;\">\n",
       "      <th></th>\n",
       "      <th>grp</th>\n",
       "      <th>made_purchase</th>\n",
       "      <th>student_id</th>\n",
       "      <th>CR_open_web</th>\n",
       "    </tr>\n",
       "  </thead>\n",
       "  <tbody>\n",
       "    <tr>\n",
       "      <th>0</th>\n",
       "      <td>A</td>\n",
       "      <td>78</td>\n",
       "      <td>1538</td>\n",
       "      <td>0.050715</td>\n",
       "    </tr>\n",
       "    <tr>\n",
       "      <th>1</th>\n",
       "      <td>B</td>\n",
       "      <td>314</td>\n",
       "      <td>6803</td>\n",
       "      <td>0.046156</td>\n",
       "    </tr>\n",
       "  </tbody>\n",
       "</table>\n",
       "</div>"
      ],
      "text/plain": [
       "  grp  made_purchase  student_id  CR_open_web\n",
       "0   A             78        1538     0.050715\n",
       "1   B            314        6803     0.046156"
      ]
     },
     "execution_count": 40,
     "metadata": {},
     "output_type": "execute_result"
    }
   ],
   "source": [
    "df_CR_open_web = df_revenue_all.query(\"open_web == 1\")\\\n",
    "    .groupby('grp', as_index=False)\\\n",
    "    .agg({'made_purchase':'sum', 'student_id':'count'})\n",
    "df_CR_open_web['CR_open_web'] = df_CR_open_web.made_purchase / df_CR_open_web.student_id\n",
    "df_CR_open_web"
   ]
  },
  {
   "cell_type": "code",
   "execution_count": 41,
   "id": "018efb44",
   "metadata": {},
   "outputs": [],
   "source": [
    "df_group_hi_test = df_revenue_all.query(\"open_web == 1\")"
   ]
  },
  {
   "cell_type": "code",
   "execution_count": 42,
   "id": "a66a0175",
   "metadata": {},
   "outputs": [],
   "source": [
    "expected, observed, stats = pg.chi2_independence(df_group_hi_test, x='grp', y='made_purchase')"
   ]
  },
  {
   "cell_type": "code",
   "execution_count": 43,
   "id": "f5a127fb",
   "metadata": {},
   "outputs": [
    {
     "data": {
      "text/html": [
       "<div>\n",
       "<style scoped>\n",
       "    .dataframe tbody tr th:only-of-type {\n",
       "        vertical-align: middle;\n",
       "    }\n",
       "\n",
       "    .dataframe tbody tr th {\n",
       "        vertical-align: top;\n",
       "    }\n",
       "\n",
       "    .dataframe thead th {\n",
       "        text-align: right;\n",
       "    }\n",
       "</style>\n",
       "<table border=\"1\" class=\"dataframe\">\n",
       "  <thead>\n",
       "    <tr style=\"text-align: right;\">\n",
       "      <th></th>\n",
       "      <th>test</th>\n",
       "      <th>lambda</th>\n",
       "      <th>chi2</th>\n",
       "      <th>dof</th>\n",
       "      <th>pval</th>\n",
       "      <th>cramer</th>\n",
       "      <th>power</th>\n",
       "    </tr>\n",
       "  </thead>\n",
       "  <tbody>\n",
       "    <tr>\n",
       "      <th>0</th>\n",
       "      <td>pearson</td>\n",
       "      <td>1.000</td>\n",
       "      <td>0.485</td>\n",
       "      <td>1.0</td>\n",
       "      <td>0.486</td>\n",
       "      <td>0.008</td>\n",
       "      <td>0.107</td>\n",
       "    </tr>\n",
       "    <tr>\n",
       "      <th>1</th>\n",
       "      <td>cressie-read</td>\n",
       "      <td>0.667</td>\n",
       "      <td>0.482</td>\n",
       "      <td>1.0</td>\n",
       "      <td>0.488</td>\n",
       "      <td>0.008</td>\n",
       "      <td>0.107</td>\n",
       "    </tr>\n",
       "    <tr>\n",
       "      <th>2</th>\n",
       "      <td>log-likelihood</td>\n",
       "      <td>0.000</td>\n",
       "      <td>0.477</td>\n",
       "      <td>1.0</td>\n",
       "      <td>0.490</td>\n",
       "      <td>0.008</td>\n",
       "      <td>0.106</td>\n",
       "    </tr>\n",
       "    <tr>\n",
       "      <th>3</th>\n",
       "      <td>freeman-tukey</td>\n",
       "      <td>-0.500</td>\n",
       "      <td>0.473</td>\n",
       "      <td>1.0</td>\n",
       "      <td>0.492</td>\n",
       "      <td>0.008</td>\n",
       "      <td>0.106</td>\n",
       "    </tr>\n",
       "    <tr>\n",
       "      <th>4</th>\n",
       "      <td>mod-log-likelihood</td>\n",
       "      <td>-1.000</td>\n",
       "      <td>0.469</td>\n",
       "      <td>1.0</td>\n",
       "      <td>0.494</td>\n",
       "      <td>0.007</td>\n",
       "      <td>0.105</td>\n",
       "    </tr>\n",
       "    <tr>\n",
       "      <th>5</th>\n",
       "      <td>neyman</td>\n",
       "      <td>-2.000</td>\n",
       "      <td>0.461</td>\n",
       "      <td>1.0</td>\n",
       "      <td>0.497</td>\n",
       "      <td>0.007</td>\n",
       "      <td>0.104</td>\n",
       "    </tr>\n",
       "  </tbody>\n",
       "</table>\n",
       "</div>"
      ],
      "text/plain": [
       "                 test  lambda   chi2  dof   pval  cramer  power\n",
       "0             pearson   1.000  0.485  1.0  0.486   0.008  0.107\n",
       "1        cressie-read   0.667  0.482  1.0  0.488   0.008  0.107\n",
       "2      log-likelihood   0.000  0.477  1.0  0.490   0.008  0.106\n",
       "3       freeman-tukey  -0.500  0.473  1.0  0.492   0.008  0.106\n",
       "4  mod-log-likelihood  -1.000  0.469  1.0  0.494   0.007  0.105\n",
       "5              neyman  -2.000  0.461  1.0  0.497   0.007  0.104"
      ]
     },
     "execution_count": 43,
     "metadata": {},
     "output_type": "execute_result"
    }
   ],
   "source": [
    "stats.round(3)"
   ]
  },
  {
   "cell_type": "markdown",
   "id": "873883b8",
   "metadata": {},
   "source": [
    "Вывод: принимаем нулевую гипотезу. Относительная конверсия (CR пользователя, который заходил на сайт, в покупку) не зависит от группы."
   ]
  },
  {
   "cell_type": "markdown",
   "id": "c32e27e7",
   "metadata": {},
   "source": [
    "### Функция для проведения bootstrap"
   ]
  },
  {
   "cell_type": "code",
   "execution_count": 44,
   "id": "14532fd9",
   "metadata": {},
   "outputs": [],
   "source": [
    "def do_bootstrap(sample_a, sample_b, n=1000, B=1000):\n",
    "    \"\"\"\n",
    "    Для корректной работы программы:\n",
    "        1. ARPU - заменить NaN на нули\n",
    "        2. ARPPU - оставить только данные о платежах\n",
    "        \n",
    "    sample_a - значения из группы А\n",
    "    sample_b - значения из группы В\n",
    "    n=1000 - размер выборки, которую будем генерировать\n",
    "    B=1000 - количество генерируемых подвыборок\n",
    "    \n",
    "    Этапы реализации функции бутстрапа:\n",
    "    1. Взять исходные выборки и отобрать в бут-выборку наблюдения с повторением;\n",
    "    2. Подсчитать метрику (посчитать общую прибыль и разделить на количество клиентов или );\n",
    "    3. Повторить пункты 1-2 от 1000 до 5000 раз для получения эмпирического распределение статистики;\n",
    "    4. Получить квантили alpha/2 и 1 - alpha/2\n",
    "    5. Подсчитать p-value\n",
    "    6. Визуализировать полученную выборку\n",
    "    \"\"\"\n",
    "\n",
    "    alpha = 0.05\n",
    "    stat_distrib = []\n",
    "    \n",
    "    # генерируем выборки и считаем статистику\n",
    "    for i in range(B):\n",
    "        bootstrap_values_a = np.random.choice(group_a, size=n, replace=True)\n",
    "        bootstrap_values_b = np.random.choice(group_b, size=n, replace=True)\n",
    "        stat_distrib.append((np.sum(bootstrap_values_a) - np.sum(bootstrap_values_b)) / n)\n",
    "        \n",
    "    p_value, ci = do_some_math(stat_distrib, alpha)\n",
    "    do_some_viz(p_value, ci, stat_distrib)\n",
    "    return p_value, ci, stat_distrib\n",
    "\n",
    "def do_some_math(data, alpha):\n",
    "    # подсчет доверительных интервалов\n",
    "    left_q = alpha / 2\n",
    "    right_q = 1 - left_q\n",
    "    ci = np.quantile(data, [left_q, right_q])\n",
    "    \n",
    "    # p_value\n",
    "    quant = ss.norm.cdf(x=0, loc=np.mean(data), scale=np.std(data, ddof=1))\n",
    "    p_value = quant * 2 if 0 < np.mean(data) else (1 - quant) * 2\n",
    "    return p_value, ci\n",
    "\n",
    "def do_some_viz(p_value, ci, data):\n",
    "    print(f'p-value: {p_value} \\n')\n",
    "    fig = plt.figure(figsize=(18, 7))\n",
    "    s = pd.DataFrame({'val': data, 'col':['1' if x<=ci[0] or x>=ci[1] else '0' for x in data]})\n",
    "    sns.histplot(s, x='val', hue='col', multiple=\"stack\")\n",
    "    pr = [0.025, 0.975]\n",
    "    for i in range(len(ci)):\n",
    "        plt.axvline(x=ci[i], ymin=0, ymax=0.5, linestyle='--', color='g',\n",
    "                    label=f'CI({pr[i]}): {ci[i].round(3)}')\n",
    "    plt.axvline(np.mean(data), ymin=0, ymax=1, color='b', \n",
    "                label=f'Statistic mean: {np.mean(data).round(3)}')\n",
    "    plt.xlabel('statistic value', fontsize=14)\n",
    "    plt.ylabel('frequency', fontsize=14)\n",
    "    plt.legend(loc=0)\n",
    "    "
   ]
  },
  {
   "cell_type": "markdown",
   "id": "a5b3c377",
   "metadata": {},
   "source": [
    "### 3. ARPU\n",
    "$H_0$ - средние значения равны в двух группах  \n",
    "$H_1$ - средние значения не равны в двух группах  \n",
    "$\\alpha = 0,05$ "
   ]
  },
  {
   "cell_type": "code",
   "execution_count": 45,
   "id": "51e2cd40",
   "metadata": {},
   "outputs": [
    {
     "data": {
      "text/html": [
       "<div>\n",
       "<style scoped>\n",
       "    .dataframe tbody tr th:only-of-type {\n",
       "        vertical-align: middle;\n",
       "    }\n",
       "\n",
       "    .dataframe tbody tr th {\n",
       "        vertical-align: top;\n",
       "    }\n",
       "\n",
       "    .dataframe thead th {\n",
       "        text-align: right;\n",
       "    }\n",
       "</style>\n",
       "<table border=\"1\" class=\"dataframe\">\n",
       "  <thead>\n",
       "    <tr style=\"text-align: right;\">\n",
       "      <th></th>\n",
       "      <th>grp</th>\n",
       "      <th>rev</th>\n",
       "      <th>student_id</th>\n",
       "      <th>arpu</th>\n",
       "    </tr>\n",
       "  </thead>\n",
       "  <tbody>\n",
       "    <tr>\n",
       "      <th>0</th>\n",
       "      <td>A</td>\n",
       "      <td>72820.0000</td>\n",
       "      <td>14664</td>\n",
       "      <td>4.965903</td>\n",
       "    </tr>\n",
       "    <tr>\n",
       "      <th>1</th>\n",
       "      <td>B</td>\n",
       "      <td>394974.0035</td>\n",
       "      <td>59763</td>\n",
       "      <td>6.609006</td>\n",
       "    </tr>\n",
       "  </tbody>\n",
       "</table>\n",
       "</div>"
      ],
      "text/plain": [
       "  grp          rev  student_id      arpu\n",
       "0   A   72820.0000       14664  4.965903\n",
       "1   B  394974.0035       59763  6.609006"
      ]
     },
     "execution_count": 45,
     "metadata": {},
     "output_type": "execute_result"
    }
   ],
   "source": [
    "df_arpu = df_revenue_all\\\n",
    "    .groupby('grp', as_index=False)\\\n",
    "    .agg({'rev':'sum', 'student_id':'count'})\n",
    "df_arpu['arpu'] = df_arpu.rev / df_arpu.student_id\n",
    "df_arpu"
   ]
  },
  {
   "cell_type": "markdown",
   "id": "7ad82df2",
   "metadata": {},
   "source": [
    "Bootstrap"
   ]
  },
  {
   "cell_type": "code",
   "execution_count": 46,
   "id": "3615b085",
   "metadata": {},
   "outputs": [
    {
     "name": "stdout",
     "output_type": "stream",
     "text": [
      "p-value: 0.40801168283295763 \n",
      "\n"
     ]
    },
    {
     "data": {
      "image/png": "[encoded data removed]",
      "text/plain": [
       "<Figure size 1296x504 with 1 Axes>"
      ]
     },
     "metadata": {
      "needs_background": "light"
     },
     "output_type": "display_data"
    }
   ],
   "source": [
    "group_a = df_revenue_all.query(\"grp == 'A'\").rev.fillna(0).values\n",
    "group_b = df_revenue_all.query(\"grp == 'B'\").rev.fillna(0).values\n",
    "\n",
    "p_value, ci, data = do_bootstrap(group_a, group_b, n=5000)"
   ]
  },
  {
   "cell_type": "markdown",
   "id": "bad1c9ea",
   "metadata": {},
   "source": [
    "Вывод: Принимаем нулевую гипотезу, средние значения ARPU равны в двух группах."
   ]
  },
  {
   "cell_type": "markdown",
   "id": "dbe0171c",
   "metadata": {},
   "source": [
    "### 4. ARPPU\n",
    "$H_0$ - средние значения равны в двух группах  \n",
    "$H_1$ - средние значения не равны в двух группах  \n",
    "$\\alpha = 0,05$ "
   ]
  },
  {
   "cell_type": "code",
   "execution_count": 47,
   "id": "4779068c",
   "metadata": {},
   "outputs": [
    {
     "data": {
      "text/html": [
       "<div>\n",
       "<style scoped>\n",
       "    .dataframe tbody tr th:only-of-type {\n",
       "        vertical-align: middle;\n",
       "    }\n",
       "\n",
       "    .dataframe tbody tr th {\n",
       "        vertical-align: top;\n",
       "    }\n",
       "\n",
       "    .dataframe thead th {\n",
       "        text-align: right;\n",
       "    }\n",
       "</style>\n",
       "<table border=\"1\" class=\"dataframe\">\n",
       "  <thead>\n",
       "    <tr style=\"text-align: right;\">\n",
       "      <th></th>\n",
       "      <th>student_id</th>\n",
       "      <th>grp</th>\n",
       "      <th>rev</th>\n",
       "      <th>open_web</th>\n",
       "      <th>made_purchase</th>\n",
       "    </tr>\n",
       "  </thead>\n",
       "  <tbody>\n",
       "    <tr>\n",
       "      <th>0</th>\n",
       "      <td>1489</td>\n",
       "      <td>B</td>\n",
       "      <td>NaN</td>\n",
       "      <td>0</td>\n",
       "      <td>0</td>\n",
       "    </tr>\n",
       "    <tr>\n",
       "      <th>1</th>\n",
       "      <td>1627</td>\n",
       "      <td>A</td>\n",
       "      <td>990.0</td>\n",
       "      <td>1</td>\n",
       "      <td>1</td>\n",
       "    </tr>\n",
       "    <tr>\n",
       "      <th>2</th>\n",
       "      <td>1768</td>\n",
       "      <td>B</td>\n",
       "      <td>NaN</td>\n",
       "      <td>0</td>\n",
       "      <td>0</td>\n",
       "    </tr>\n",
       "    <tr>\n",
       "      <th>3</th>\n",
       "      <td>1783</td>\n",
       "      <td>B</td>\n",
       "      <td>NaN</td>\n",
       "      <td>0</td>\n",
       "      <td>0</td>\n",
       "    </tr>\n",
       "    <tr>\n",
       "      <th>4</th>\n",
       "      <td>1794</td>\n",
       "      <td>A</td>\n",
       "      <td>NaN</td>\n",
       "      <td>0</td>\n",
       "      <td>0</td>\n",
       "    </tr>\n",
       "  </tbody>\n",
       "</table>\n",
       "</div>"
      ],
      "text/plain": [
       "   student_id grp    rev  open_web  made_purchase\n",
       "0        1489   B    NaN         0              0\n",
       "1        1627   A  990.0         1              1\n",
       "2        1768   B    NaN         0              0\n",
       "3        1783   B    NaN         0              0\n",
       "4        1794   A    NaN         0              0"
      ]
     },
     "execution_count": 47,
     "metadata": {},
     "output_type": "execute_result"
    }
   ],
   "source": [
    "df_revenue_all.head()"
   ]
  },
  {
   "cell_type": "code",
   "execution_count": 48,
   "id": "24a260a2",
   "metadata": {},
   "outputs": [
    {
     "data": {
      "text/html": [
       "<div>\n",
       "<style scoped>\n",
       "    .dataframe tbody tr th:only-of-type {\n",
       "        vertical-align: middle;\n",
       "    }\n",
       "\n",
       "    .dataframe tbody tr th {\n",
       "        vertical-align: top;\n",
       "    }\n",
       "\n",
       "    .dataframe thead th {\n",
       "        text-align: right;\n",
       "    }\n",
       "</style>\n",
       "<table border=\"1\" class=\"dataframe\">\n",
       "  <thead>\n",
       "    <tr style=\"text-align: right;\">\n",
       "      <th></th>\n",
       "      <th>grp</th>\n",
       "      <th>rev</th>\n",
       "      <th>made_purchase</th>\n",
       "      <th>arppu</th>\n",
       "    </tr>\n",
       "  </thead>\n",
       "  <tbody>\n",
       "    <tr>\n",
       "      <th>0</th>\n",
       "      <td>A</td>\n",
       "      <td>72820.0000</td>\n",
       "      <td>78</td>\n",
       "      <td>933.589744</td>\n",
       "    </tr>\n",
       "    <tr>\n",
       "      <th>1</th>\n",
       "      <td>B</td>\n",
       "      <td>394974.0035</td>\n",
       "      <td>314</td>\n",
       "      <td>1257.878992</td>\n",
       "    </tr>\n",
       "  </tbody>\n",
       "</table>\n",
       "</div>"
      ],
      "text/plain": [
       "  grp          rev  made_purchase        arppu\n",
       "0   A   72820.0000             78   933.589744\n",
       "1   B  394974.0035            314  1257.878992"
      ]
     },
     "execution_count": 48,
     "metadata": {},
     "output_type": "execute_result"
    }
   ],
   "source": [
    "df_arppu = df_revenue_all\\\n",
    "    .groupby('grp', as_index=False)\\\n",
    "    .agg({'rev':'sum', 'made_purchase':'sum'})\n",
    "df_arppu['arppu'] = df_arppu.rev / df_arppu.made_purchase\n",
    "df_arppu"
   ]
  },
  {
   "cell_type": "code",
   "execution_count": 49,
   "id": "6a502e0f",
   "metadata": {},
   "outputs": [
    {
     "name": "stdout",
     "output_type": "stream",
     "text": [
      "p-value: 0.0 \n",
      "\n"
     ]
    },
    {
     "data": {
      "image/png": "[encoded data removed]",
      "text/plain": [
       "<Figure size 1296x504 with 1 Axes>"
      ]
     },
     "metadata": {
      "needs_background": "light"
     },
     "output_type": "display_data"
    }
   ],
   "source": [
    "group_a = df_revenue_all.query(\"grp == 'A'\").rev.dropna().values\n",
    "group_b = df_revenue_all.query(\"grp == 'B'\").rev.dropna().values\n",
    "\n",
    "p_value, ci, data = do_bootstrap(group_a, group_b)"
   ]
  },
  {
   "cell_type": "markdown",
   "id": "9b8908c4",
   "metadata": {},
   "source": [
    "Вывод: принимаем альтернативную гипотезу, в группе B среднее значение ARPPU статистически значимо выше чем в группе А"
   ]
  },
  {
   "cell_type": "markdown",
   "id": "ce38a400",
   "metadata": {},
   "source": [
    "### 5. ARPAU\n",
    "$H_0$ - средние значения равны в двух группах  \n",
    "$H_1$ - средние значения не равны в двух группах  \n",
    "$\\alpha = 0,05$ "
   ]
  },
  {
   "cell_type": "code",
   "execution_count": 50,
   "id": "2df400d8",
   "metadata": {},
   "outputs": [
    {
     "data": {
      "text/html": [
       "<div>\n",
       "<style scoped>\n",
       "    .dataframe tbody tr th:only-of-type {\n",
       "        vertical-align: middle;\n",
       "    }\n",
       "\n",
       "    .dataframe tbody tr th {\n",
       "        vertical-align: top;\n",
       "    }\n",
       "\n",
       "    .dataframe thead th {\n",
       "        text-align: right;\n",
       "    }\n",
       "</style>\n",
       "<table border=\"1\" class=\"dataframe\">\n",
       "  <thead>\n",
       "    <tr style=\"text-align: right;\">\n",
       "      <th></th>\n",
       "      <th>grp</th>\n",
       "      <th>rev</th>\n",
       "      <th>open_web</th>\n",
       "      <th>arpau</th>\n",
       "    </tr>\n",
       "  </thead>\n",
       "  <tbody>\n",
       "    <tr>\n",
       "      <th>0</th>\n",
       "      <td>A</td>\n",
       "      <td>72820.0000</td>\n",
       "      <td>1538</td>\n",
       "      <td>47.347204</td>\n",
       "    </tr>\n",
       "    <tr>\n",
       "      <th>1</th>\n",
       "      <td>B</td>\n",
       "      <td>394974.0035</td>\n",
       "      <td>6803</td>\n",
       "      <td>58.058798</td>\n",
       "    </tr>\n",
       "  </tbody>\n",
       "</table>\n",
       "</div>"
      ],
      "text/plain": [
       "  grp          rev  open_web      arpau\n",
       "0   A   72820.0000      1538  47.347204\n",
       "1   B  394974.0035      6803  58.058798"
      ]
     },
     "execution_count": 50,
     "metadata": {},
     "output_type": "execute_result"
    }
   ],
   "source": [
    "df_arpau = df_revenue_all\\\n",
    "    .groupby('grp', as_index=False)\\\n",
    "    .agg({'rev':'sum', 'open_web':'sum'})\n",
    "df_arpau['arpau'] = df_arpau.rev / df_arpau.open_web\n",
    "df_arpau"
   ]
  },
  {
   "cell_type": "code",
   "execution_count": 51,
   "id": "c6c8c82c",
   "metadata": {},
   "outputs": [
    {
     "name": "stdout",
     "output_type": "stream",
     "text": [
      "p-value: 0.17461519899596611 \n",
      "\n"
     ]
    },
    {
     "data": {
      "image/png": "[encoded data removed]",
      "text/plain": [
       "<Figure size 1296x504 with 1 Axes>"
      ]
     },
     "metadata": {
      "needs_background": "light"
     },
     "output_type": "display_data"
    }
   ],
   "source": [
    "group_a = df_revenue_all.query(\"grp == 'A' and open_web == 1\").rev.fillna(0).values\n",
    "group_b = df_revenue_all.query(\"grp == 'B' and open_web == 1\").rev.fillna(0).values\n",
    "\n",
    "p_value, ci, data = do_bootstrap(group_a, group_b, n=3000)"
   ]
  },
  {
   "cell_type": "markdown",
   "id": "678f3983",
   "metadata": {},
   "source": [
    "Вывод: принимаем нулевую гипотезу. Среднее значение ARPAU равны в двух группах"
   ]
  },
  {
   "cell_type": "markdown",
   "id": "6c5e791c",
   "metadata": {},
   "source": [
    "###  Выводы:\n",
    "1. Среднее значение выручки, которую приносит пользователь, в экспериментальной группе статистически больше по сравнению с контрольной. \n",
    "2. Не удалось выявить статистически значимое различие конверсий (абсолютной и относительной конверсий) между экспериментальной и контрольной группами. \n",
    "3. Средние значения ARPU и ARPAU равны в двух группах\n",
    "4. В группе \"B\" среднее значение ARPPU статистически значимо выше чем в группе \"А\"\n",
    "\n",
    "Необходимо вводить новую механику оплаты на сайте, так как она повлияла на основные метрики (средрее значение выручки и ARPPU)"
   ]
  },
  {
   "cell_type": "markdown",
   "id": "463e80b5",
   "metadata": {},
   "source": [
    "## 2.1  Очень усердные ученики."
   ]
  },
  {
   "cell_type": "markdown",
   "id": "a05e2b4e",
   "metadata": {},
   "source": [
    "Написать оптимальный запрос, который даст информацию о количестве очень усердных студентов. (Под усердным студентом мы понимаем студента, который правильно решил 20 задач за текущий месяц.)\n",
    "\n"
   ]
  },
  {
   "cell_type": "code",
   "execution_count": 52,
   "id": "8038eddf",
   "metadata": {},
   "outputs": [],
   "source": [
    "diligent_students = '''\n",
    "WITH current_month AS (\n",
    "  SELECT\n",
    "    toStartOfMonth(max(timest)) AS month\n",
    "  FROM\n",
    "    default.peas\n",
    ")\n",
    "SELECT\n",
    "  count(st_id) as count_diligent_students\n",
    "FROM\n",
    "  (\n",
    "    SELECT\n",
    "      st_id,\n",
    "      uniqExact(timest) AS item_count\n",
    "    FROM\n",
    "      default.peas,\n",
    "      current_month\n",
    "    WHERE\n",
    "      timest >= current_month.month\n",
    "      AND correct = 1\n",
    "    GROUP BY\n",
    "      st_id\n",
    "    HAVING\n",
    "      item_count >= 20\n",
    "  ) \n",
    "  '''"
   ]
  },
  {
   "cell_type": "markdown",
   "id": "5099be3e",
   "metadata": {},
   "source": [
    "Пояснение к запросу (как я пыталась сделать его оптимальным)\n",
    "1. С помощью оператора WITH 1 раз посчитала дату начала месяца\n",
    "2. В подзапросе:\n",
    "    - Сравниваю дату с началом текущего месяца (timest >= current_month.month), а не высчитываю начало месяца у каждой строчки (toStartOfMonth(timest) = current_month.month)\n",
    "    - Убрала в запросе метод uniqExact, id студентов уже уникальны из-за особенностей подзапроса (группировка по st_id)"
   ]
  },
  {
   "cell_type": "code",
   "execution_count": 53,
   "id": "f203abbb",
   "metadata": {},
   "outputs": [],
   "source": [
    "connection_default = {'host': 'https://clickhouse.lab.karpov.courses',\n",
    "                  'database':'default',\n",
    "                  'user':'student', \n",
    "                  'password':'dpo_python_2020'\n",
    "                 }\n",
    "df = ph.read_clickhouse(diligent_students,\n",
    "                     connection=connection_default)"
   ]
  },
  {
   "cell_type": "code",
   "execution_count": 54,
   "id": "bfd12b02",
   "metadata": {},
   "outputs": [
    {
     "data": {
      "text/html": [
       "<div>\n",
       "<style scoped>\n",
       "    .dataframe tbody tr th:only-of-type {\n",
       "        vertical-align: middle;\n",
       "    }\n",
       "\n",
       "    .dataframe tbody tr th {\n",
       "        vertical-align: top;\n",
       "    }\n",
       "\n",
       "    .dataframe thead th {\n",
       "        text-align: right;\n",
       "    }\n",
       "</style>\n",
       "<table border=\"1\" class=\"dataframe\">\n",
       "  <thead>\n",
       "    <tr style=\"text-align: right;\">\n",
       "      <th></th>\n",
       "      <th>count_diligent_students</th>\n",
       "    </tr>\n",
       "  </thead>\n",
       "  <tbody>\n",
       "    <tr>\n",
       "      <th>0</th>\n",
       "      <td>136</td>\n",
       "    </tr>\n",
       "  </tbody>\n",
       "</table>\n",
       "</div>"
      ],
      "text/plain": [
       "   count_diligent_students\n",
       "0                      136"
      ]
     },
     "execution_count": 54,
     "metadata": {},
     "output_type": "execute_result"
    }
   ],
   "source": [
    "df"
   ]
  },
  {
   "cell_type": "markdown",
   "id": "8326f581",
   "metadata": {},
   "source": [
    "## 2.2 Оптимизация воронки\n",
    "Необходимо в одном запросе выгрузить следующую информацию о группах пользователей:\n",
    "\n",
    "ARPU  \n",
    "ARPAU  \n",
    "CR в покупку  \n",
    "СR активного пользователя в покупку  \n",
    "CR пользователя из активности по математике (subject = ’math’) в покупку курса по математике \n",
    "ARPU считается относительно всех пользователей, попавших в группы. "
   ]
  },
  {
   "cell_type": "code",
   "execution_count": 55,
   "id": "77c7bc28",
   "metadata": {},
   "outputs": [],
   "source": [
    "optimization_funnel = '''\n",
    "SELECT\n",
    "  b.student_pay / a.all_stud as CTR,\n",
    "  b.student_pay / c.activ_stud as activ_CTR,\n",
    "  b.math_pay / c.activ_math as math_activ_CTR,\n",
    "  b.rev / c.activ_stud as ARPAU,\n",
    "  b.rev / a.all_stud as ARPU\n",
    "FROM\n",
    "  (\n",
    "    -- Все студенты\n",
    "    SELECT\n",
    "      test_grp,\n",
    "      uniqExact(st_id) AS all_stud\n",
    "    FROM\n",
    "      default.studs\n",
    "    GROUP BY\n",
    "      test_grp\n",
    "  ) AS a\n",
    "  JOIN (\n",
    "    SELECT\n",
    "      test_grp,\n",
    "      SUM(money) AS rev,\n",
    "      SUM(math_pay) AS math_pay,\n",
    "      uniqExact(st_id) AS student_pay\n",
    "    FROM(\n",
    "        -- Студенты, которые оплатили курс, оплатили математику\n",
    "        SELECT\n",
    "          l.test_grp AS test_grp,\n",
    "          r.subject AS subject,\n",
    "          l.st_id AS st_id,\n",
    "          r.money AS money,\n",
    "          multiIf(\n",
    "            (subject = 'Math')\n",
    "            AND (money > 0),\n",
    "            1,\n",
    "            0\n",
    "          ) AS math_pay\n",
    "        FROM\n",
    "          default.studs AS l\n",
    "          JOIN default.final_project_check AS r ON l.st_id = r.st_id\n",
    "      )\n",
    "    GROUP BY\n",
    "      test_grp\n",
    "  ) AS b ON a.test_grp = b.test_grp\n",
    "  JOIN (\n",
    "    -- активные студенты по всем предметам\n",
    "    SELECT \n",
    "       test_grp, \n",
    "       SUM(activ) AS activ_stud,\n",
    "       SUM(activ_math) AS activ_math\n",
    "    FROM\n",
    "        (SELECT\n",
    "            any(test_grp) AS test_grp,\n",
    "            st_id,\n",
    "            SUM(count_peas) AS all_count_peas,\n",
    "            IF(all_count_peas >= 10, 1, 0) AS activ,\n",
    "            MAX(activ_math) AS activ_math\n",
    "        FROM\n",
    "            (SELECT\n",
    "                any(r.test_grp) AS test_grp,\n",
    "                l.st_id AS st_id,\n",
    "                l.subject AS subject,\n",
    "                SUM(correct) AS count_peas,\n",
    "                IF(count_peas >= 2 AND subject = 'Math', 1, 0) AS activ_math\n",
    "            FROM\n",
    "                default.peas AS l\n",
    "                JOIN default.studs AS r ON r.st_id = l.st_id\n",
    "            GROUP BY\n",
    "                st_id,\n",
    "                subject\n",
    "            )\n",
    "        GROUP BY\n",
    "            st_id)\n",
    "    GROUP BY\n",
    "        test_grp\n",
    "  ) as c ON b.test_grp = c.test_grp'''"
   ]
  },
  {
   "cell_type": "code",
   "execution_count": 56,
   "id": "84ede618",
   "metadata": {},
   "outputs": [],
   "source": [
    "df = ph.read_clickhouse(optimization_funnel,\n",
    "                     connection=connection_default)"
   ]
  },
  {
   "cell_type": "code",
   "execution_count": 57,
   "id": "605b3649",
   "metadata": {},
   "outputs": [
    {
     "data": {
      "text/html": [
       "<div>\n",
       "<style scoped>\n",
       "    .dataframe tbody tr th:only-of-type {\n",
       "        vertical-align: middle;\n",
       "    }\n",
       "\n",
       "    .dataframe tbody tr th {\n",
       "        vertical-align: top;\n",
       "    }\n",
       "\n",
       "    .dataframe thead th {\n",
       "        text-align: right;\n",
       "    }\n",
       "</style>\n",
       "<table border=\"1\" class=\"dataframe\">\n",
       "  <thead>\n",
       "    <tr style=\"text-align: right;\">\n",
       "      <th></th>\n",
       "      <th>CTR</th>\n",
       "      <th>activ_CTR</th>\n",
       "      <th>math_activ_CTR</th>\n",
       "      <th>ARPAU</th>\n",
       "      <th>ARPU</th>\n",
       "    </tr>\n",
       "  </thead>\n",
       "  <tbody>\n",
       "    <tr>\n",
       "      <th>0</th>\n",
       "      <td>0.049</td>\n",
       "      <td>0.114</td>\n",
       "      <td>0.163</td>\n",
       "      <td>10492.424</td>\n",
       "      <td>4540.984</td>\n",
       "    </tr>\n",
       "    <tr>\n",
       "      <th>1</th>\n",
       "      <td>0.108</td>\n",
       "      <td>0.317</td>\n",
       "      <td>0.381</td>\n",
       "      <td>33613.861</td>\n",
       "      <td>11508.475</td>\n",
       "    </tr>\n",
       "  </tbody>\n",
       "</table>\n",
       "</div>"
      ],
      "text/plain": [
       "     CTR  activ_CTR  math_activ_CTR      ARPAU       ARPU\n",
       "0  0.049      0.114           0.163  10492.424   4540.984\n",
       "1  0.108      0.317           0.381  33613.861  11508.475"
      ]
     },
     "execution_count": 57,
     "metadata": {},
     "output_type": "execute_result"
    }
   ],
   "source": [
    "df.round(3)"
   ]
  },
  {
   "cell_type": "markdown",
   "id": "471b3da9",
   "metadata": {},
   "source": [
    "### Задание 3. Python\n",
    "3.1 Задача\n",
    "\n",
    "Реализуйте функцию, которая будет автоматически подгружать информацию из дополнительного файла groups_add.csv (заголовки могут отличаться) и на основании дополнительных параметров пересчитывать метрики.  \n",
    "Реализуйте функцию, которая будет строить графики по получаемым метрикам."
   ]
  },
  {
   "cell_type": "code",
   "execution_count": 58,
   "id": "4b89cc41",
   "metadata": {},
   "outputs": [],
   "source": [
    "def merge_df(df_groups, df_groups_add, df_active_studs, df_checks):\n",
    "    \"\"\"\n",
    "    Функция переименовывает колонки и создает общий датасет.\n",
    "    В общий датафрейм не попадают данные о пользователях, которые оплатили курс, \n",
    "    но не заходили на сайт\n",
    "    \"\"\"\n",
    "    new_col={'id':'student_id'}\n",
    "    df_groups = df_groups.rename(columns=new_col)\n",
    "    df_groups_add = df_groups_add.rename(columns=new_col)\n",
    "    \n",
    "\n",
    "    df_groups_all = df_groups.append(df_groups_add, ignore_index=True)\n",
    "    df_active_studs['open_web'] = [1] * df_active_studs.shape[0]\n",
    "    df_checks['made_purchase'] = [1] * df_checks.shape[0]\n",
    "    result = df_groups_all.merge(df_active_studs, on='student_id', how='left')\n",
    "    result = result.merge(df_checks, on='student_id', how='left')\n",
    "    result = result.query(\"~ (made_purchase == 1 and open_web == 0)\")\n",
    "    return result\n",
    "\n",
    "def count_metric(df):\n",
    "    \"\"\"\n",
    "    Подсчет метрик:\n",
    "    - CR\n",
    "    - CR_activ\n",
    "    - ARPU \n",
    "    - ARPAU\n",
    "    - ARPPU\n",
    "    \"\"\"\n",
    "\n",
    "    df_result = df.groupby('grp', as_index=False)\\\n",
    "    .agg({'rev': 'sum', 'open_web': 'sum', 'made_purchase': 'sum', \n",
    "          'student_id': 'count'})\\\n",
    "    .rename(columns= {'student_id': 'all_students'})\n",
    "\n",
    "    df_result['CR'] = df_result.made_purchase / df_result.all_students\n",
    "    df_result['CR_activ'] = df_result.made_purchase / df_result.open_web\n",
    "    df_result['ARPU'] = df_result.rev / df_result.all_students\n",
    "    df_result['ARPAU'] = df_result.rev / df_result.open_web\n",
    "    df_result['ARPPU'] = df_result.rev / df_result.made_purchase\n",
    "    return df_result\n",
    "\n",
    "def get_basic_metrics():\n",
    "    \"\"\"\n",
    "    Функция для автоматизации ad-hoc запросов.\n",
    "    Выполняет: \n",
    "    1. Загрузку данных из файлов с использованием API; \n",
    "    2. Переименование заголовков;\n",
    "    3. JOIN таблиц;\n",
    "    4. Расчет основных метрик для контрольной и экспериментальной группы\n",
    "    \n",
    "    Возвращает таблицу с рассчитанными метриками\n",
    "    \"\"\"\n",
    "    df_groups = read_yandex_disk('https://disk.yandex.ru/d/UhyYx41rTt3clQ', ';')\n",
    "    df_groups_add = read_yandex_disk('https://disk.yandex.ru/d/5Kxrz02m3IBUwQ')\n",
    "    df_active_studs = read_yandex_disk('https://disk.yandex.ru/d/Tbs44Bm6H_FwFQ')\n",
    "    df_checks = read_yandex_disk('https://disk.yandex.ru/d/pH1q-VqcxXjsVA', ';')\n",
    "\n",
    "    df_students = merge_df(df_groups, \n",
    "                           df_groups_add, \n",
    "                           df_active_studs, \n",
    "                           df_checks)\n",
    "    df_metrics = count_metric(df_students)\n",
    "    \n",
    "    return df_metrics"
   ]
  },
  {
   "cell_type": "code",
   "execution_count": 60,
   "id": "98dde11b",
   "metadata": {},
   "outputs": [],
   "source": [
    "def plot_graf(df_metrics):\n",
    "    \"\"\"\n",
    "    Функция строит графики по данным, которые были получены после завершения работы функции get_basic_metrics()\n",
    "    \"\"\"\n",
    "    \n",
    "    col_metrics = df_metrics.columns\n",
    "    fig = plt.figure(figsize=(20, 10))\n",
    "    for i in range(1, len(col_metrics)):\n",
    "        plt.subplot(3, 3, i)\n",
    "        sns.barplot(x='grp', y=col_metrics[i], data=df_metrics)\n",
    "        plt.subplots_adjust(wspace=0.3, hspace=0.5)\n",
    "        plt.ylabel(col_metrics[i]) \n",
    "        #plt.xlabel(col_metrics[i])"
   ]
  },
  {
   "cell_type": "code",
   "execution_count": 59,
   "id": "3661a4c6",
   "metadata": {},
   "outputs": [
    {
     "data": {
      "text/html": [
       "<div>\n",
       "<style scoped>\n",
       "    .dataframe tbody tr th:only-of-type {\n",
       "        vertical-align: middle;\n",
       "    }\n",
       "\n",
       "    .dataframe tbody tr th {\n",
       "        vertical-align: top;\n",
       "    }\n",
       "\n",
       "    .dataframe thead th {\n",
       "        text-align: right;\n",
       "    }\n",
       "</style>\n",
       "<table border=\"1\" class=\"dataframe\">\n",
       "  <thead>\n",
       "    <tr style=\"text-align: right;\">\n",
       "      <th></th>\n",
       "      <th>grp</th>\n",
       "      <th>rev</th>\n",
       "      <th>open_web</th>\n",
       "      <th>made_purchase</th>\n",
       "      <th>all_students</th>\n",
       "      <th>CR</th>\n",
       "      <th>CR_activ</th>\n",
       "      <th>ARPU</th>\n",
       "      <th>ARPAU</th>\n",
       "      <th>ARPPU</th>\n",
       "    </tr>\n",
       "  </thead>\n",
       "  <tbody>\n",
       "    <tr>\n",
       "      <th>0</th>\n",
       "      <td>A</td>\n",
       "      <td>92096.0000</td>\n",
       "      <td>1538.0</td>\n",
       "      <td>107.0</td>\n",
       "      <td>14693</td>\n",
       "      <td>0.007282</td>\n",
       "      <td>0.069571</td>\n",
       "      <td>6.268019</td>\n",
       "      <td>59.880364</td>\n",
       "      <td>860.710280</td>\n",
       "    </tr>\n",
       "    <tr>\n",
       "      <th>1</th>\n",
       "      <td>B</td>\n",
       "      <td>481230.0036</td>\n",
       "      <td>6803.0</td>\n",
       "      <td>434.0</td>\n",
       "      <td>59883</td>\n",
       "      <td>0.007247</td>\n",
       "      <td>0.063795</td>\n",
       "      <td>8.036171</td>\n",
       "      <td>70.737910</td>\n",
       "      <td>1108.824893</td>\n",
       "    </tr>\n",
       "  </tbody>\n",
       "</table>\n",
       "</div>"
      ],
      "text/plain": [
       "  grp          rev  open_web  made_purchase  all_students        CR  CR_activ  \\\n",
       "0   A   92096.0000    1538.0          107.0         14693  0.007282  0.069571   \n",
       "1   B  481230.0036    6803.0          434.0         59883  0.007247  0.063795   \n",
       "\n",
       "       ARPU      ARPAU        ARPPU  \n",
       "0  6.268019  59.880364   860.710280  \n",
       "1  8.036171  70.737910  1108.824893  "
      ]
     },
     "execution_count": 59,
     "metadata": {},
     "output_type": "execute_result"
    }
   ],
   "source": [
    "df_metrics = get_basic_metrics()\n",
    "df_metrics"
   ]
  },
  {
   "cell_type": "code",
   "execution_count": 61,
   "id": "1c818ed5",
   "metadata": {},
   "outputs": [
    {
     "data": {
      "image/png": "[encoded data removed]",
      "text/plain": [
       "<Figure size 1440x720 with 9 Axes>"
      ]
     },
     "metadata": {
      "needs_background": "light"
     },
     "output_type": "display_data"
    }
   ],
   "source": [
    "plot_graf(df_metrics)"
   ]
  },
  {
   "cell_type": "markdown",
   "id": "0d4bdacb",
   "metadata": {},
   "source": [
    "### Общие выводы:\n",
    "1.1. Среднее значение выручки, которую приносит пользователь, в экспериментальной группе статистически больше по сравнению с контрольной. \n",
    "1.2. Не удалось выявить статистически значимое различие конверсий (абсолютной и относительной конверсий) между экспериментальной и контрольной группами.  \n",
    "1.3. Средние значения ARPU и ARPAU равны в двух группах  \n",
    "1.4. В группе \"B\" среднее значение ARPPU статистически значимо выше чем в группе \"А\"  \n",
    "\n",
    "1.5. Необходимо вводить новую механику оплаты на сайте, так как она повлияла на основные метрики (средрее значение выручки и ARPPU)  \n",
    "\n",
    "\n",
    "2.1 Было выявлено 136 усердных учеников, у которых 20 и более решенных горошин в месяц  \n",
    "2.2 Из базы данных были выведены следующие метрики:\n",
    "- ARPU\n",
    "- ARPAU\n",
    "- CR в покупку\n",
    "- СR активного пользователя в покупку\n",
    "- CR пользователя из активности по математике (subject = ’math’) в покупку курса по математике ARPU считается относительно всех пользователей, попавших в группы.   \n",
    "\n",
    "3.1 Написана функция для автоматизации ad-hoc запросов  \n",
    "3.2 Реализована функция для построения графиков  "
   ]
  },
  {
   "cell_type": "code",
   "execution_count": null,
   "id": "80308e33",
   "metadata": {},
   "outputs": [],
   "source": []
  }
 ],
 "metadata": {
  "kernelspec": {
   "display_name": "Python 3 (ipykernel)",
   "language": "python",
   "name": "python3"
  },
  "language_info": {
   "codemirror_mode": {
    "name": "ipython",
    "version": 3
   },
   "file_extension": ".py",
   "mimetype": "text/x-python",
   "name": "python",
   "nbconvert_exporter": "python",
   "pygments_lexer": "ipython3",
   "version": "3.11.5"
  }
 },
 "nbformat": 4,
 "nbformat_minor": 5
}
